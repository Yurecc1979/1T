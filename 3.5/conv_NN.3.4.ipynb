{
 "cells": [
  {
   "cell_type": "code",
   "execution_count": 1,
   "metadata": {},
   "outputs": [],
   "source": [
    "import tensorflow as tf\n",
    "import numpy as np\n",
    "from keras.datasets import mnist, cifar10\n",
    "from keras.models import Sequential\n",
    "from keras.layers import Dense, Flatten, Conv2D, MaxPooling2D, Rescaling"
   ]
  },
  {
   "cell_type": "code",
   "execution_count": 2,
   "metadata": {},
   "outputs": [],
   "source": [
    "# Загрузка данных MNIST\n",
    "(x_train, y_train), (x_test, y_test) = mnist.load_data()\n",
    "\n",
    "# Нормализация данных\n",
    "x_train = x_train / 255.0\n",
    "x_test = x_test / 255.0"
   ]
  },
  {
   "cell_type": "code",
   "execution_count": 3,
   "metadata": {},
   "outputs": [
    {
     "data": {
      "text/plain": [
       "(60000, 28, 28)"
      ]
     },
     "execution_count": 3,
     "metadata": {},
     "output_type": "execute_result"
    }
   ],
   "source": [
    "x_train.shape"
   ]
  },
  {
   "cell_type": "code",
   "execution_count": 4,
   "metadata": {},
   "outputs": [
    {
     "data": {
      "text/plain": [
       "(60000, 28, 28)"
      ]
     },
     "execution_count": 4,
     "metadata": {},
     "output_type": "execute_result"
    }
   ],
   "source": [
    "x_train.shape"
   ]
  },
  {
   "cell_type": "code",
   "execution_count": 5,
   "metadata": {},
   "outputs": [
    {
     "name": "stderr",
     "output_type": "stream",
     "text": [
      "c:\\Users\\gavri\\AppData\\Local\\Programs\\Python\\Python312\\Lib\\site-packages\\keras\\src\\layers\\reshaping\\flatten.py:37: UserWarning: Do not pass an `input_shape`/`input_dim` argument to a layer. When using Sequential models, prefer using an `Input(shape)` object as the first layer in the model instead.\n",
      "  super().__init__(**kwargs)\n"
     ]
    },
    {
     "name": "stdout",
     "output_type": "stream",
     "text": [
      "Epoch 1/10\n",
      "\u001b[1m1875/1875\u001b[0m \u001b[32m━━━━━━━━━━━━━━━━━━━━\u001b[0m\u001b[37m\u001b[0m \u001b[1m5s\u001b[0m 2ms/step - accuracy: 0.7989 - loss: 0.7106 - val_accuracy: 0.9239 - val_loss: 0.2553\n",
      "Epoch 2/10\n",
      "\u001b[1m1875/1875\u001b[0m \u001b[32m━━━━━━━━━━━━━━━━━━━━\u001b[0m\u001b[37m\u001b[0m \u001b[1m4s\u001b[0m 2ms/step - accuracy: 0.9278 - loss: 0.2483 - val_accuracy: 0.9369 - val_loss: 0.2114\n",
      "Epoch 3/10\n",
      "\u001b[1m1875/1875\u001b[0m \u001b[32m━━━━━━━━━━━━━━━━━━━━\u001b[0m\u001b[37m\u001b[0m \u001b[1m3s\u001b[0m 2ms/step - accuracy: 0.9393 - loss: 0.2086 - val_accuracy: 0.9420 - val_loss: 0.2004\n",
      "Epoch 4/10\n",
      "\u001b[1m1875/1875\u001b[0m \u001b[32m━━━━━━━━━━━━━━━━━━━━\u001b[0m\u001b[37m\u001b[0m \u001b[1m3s\u001b[0m 2ms/step - accuracy: 0.9446 - loss: 0.1895 - val_accuracy: 0.9484 - val_loss: 0.1782\n",
      "Epoch 5/10\n",
      "\u001b[1m1875/1875\u001b[0m \u001b[32m━━━━━━━━━━━━━━━━━━━━\u001b[0m\u001b[37m\u001b[0m \u001b[1m5s\u001b[0m 2ms/step - accuracy: 0.9495 - loss: 0.1702 - val_accuracy: 0.9518 - val_loss: 0.1663\n",
      "Epoch 6/10\n",
      "\u001b[1m1875/1875\u001b[0m \u001b[32m━━━━━━━━━━━━━━━━━━━━\u001b[0m\u001b[37m\u001b[0m \u001b[1m3s\u001b[0m 2ms/step - accuracy: 0.9552 - loss: 0.1532 - val_accuracy: 0.9541 - val_loss: 0.1577\n",
      "Epoch 7/10\n",
      "\u001b[1m1875/1875\u001b[0m \u001b[32m━━━━━━━━━━━━━━━━━━━━\u001b[0m\u001b[37m\u001b[0m \u001b[1m3s\u001b[0m 2ms/step - accuracy: 0.9567 - loss: 0.1474 - val_accuracy: 0.9526 - val_loss: 0.1628\n",
      "Epoch 8/10\n",
      "\u001b[1m1875/1875\u001b[0m \u001b[32m━━━━━━━━━━━━━━━━━━━━\u001b[0m\u001b[37m\u001b[0m \u001b[1m5s\u001b[0m 2ms/step - accuracy: 0.9571 - loss: 0.1411 - val_accuracy: 0.9529 - val_loss: 0.1588\n",
      "Epoch 9/10\n",
      "\u001b[1m1875/1875\u001b[0m \u001b[32m━━━━━━━━━━━━━━━━━━━━\u001b[0m\u001b[37m\u001b[0m \u001b[1m3s\u001b[0m 2ms/step - accuracy: 0.9608 - loss: 0.1313 - val_accuracy: 0.9553 - val_loss: 0.1568\n",
      "Epoch 10/10\n",
      "\u001b[1m1875/1875\u001b[0m \u001b[32m━━━━━━━━━━━━━━━━━━━━\u001b[0m\u001b[37m\u001b[0m \u001b[1m5s\u001b[0m 2ms/step - accuracy: 0.9607 - loss: 0.1303 - val_accuracy: 0.9555 - val_loss: 0.1548\n",
      "\u001b[1m313/313\u001b[0m \u001b[32m━━━━━━━━━━━━━━━━━━━━\u001b[0m\u001b[37m\u001b[0m \u001b[1m0s\u001b[0m 1ms/step - accuracy: 0.9483 - loss: 0.1744\n",
      "Test accuracy: 0.9555000066757202\n"
     ]
    }
   ],
   "source": [
    "# Создание модели\n",
    "model = Sequential()\n",
    "model.add(Flatten(input_shape=(28, 28))) # ---> приводит к размеру (кол-во наблюдений, 28*28)\n",
    "model.add(Dense(16, activation='relu'))\n",
    "model.add(Dense(10, activation='softmax'))\n",
    "\n",
    "# Компиляция модели\n",
    "model.compile(optimizer='adam',\n",
    "              loss='sparse_categorical_crossentropy',\n",
    "              metrics=['accuracy'])\n",
    "\n",
    "# Обучение модели\n",
    "model.fit(x_train, y_train, epochs=10, batch_size=32, validation_data=(x_test, y_test))\n",
    "\n",
    "# Оценка модели на тестовых данных\n",
    "test_loss, test_acc = model.evaluate(x_test, y_test)\n",
    "print('Test accuracy:', test_acc)"
   ]
  },
  {
   "cell_type": "code",
   "execution_count": 6,
   "metadata": {},
   "outputs": [
    {
     "name": "stdout",
     "output_type": "stream",
     "text": [
      "\u001b[1m313/313\u001b[0m \u001b[32m━━━━━━━━━━━━━━━━━━━━\u001b[0m\u001b[37m\u001b[0m \u001b[1m0s\u001b[0m 1ms/step\n"
     ]
    }
   ],
   "source": [
    "preds = model.predict(x_test)"
   ]
  },
  {
   "cell_type": "code",
   "execution_count": 7,
   "metadata": {},
   "outputs": [],
   "source": [
    "import pandas as pd"
   ]
  },
  {
   "cell_type": "code",
   "execution_count": 8,
   "metadata": {},
   "outputs": [
    {
     "data": {
      "text/html": [
       "<div>\n",
       "<style scoped>\n",
       "    .dataframe tbody tr th:only-of-type {\n",
       "        vertical-align: middle;\n",
       "    }\n",
       "\n",
       "    .dataframe tbody tr th {\n",
       "        vertical-align: top;\n",
       "    }\n",
       "\n",
       "    .dataframe thead th {\n",
       "        text-align: right;\n",
       "    }\n",
       "</style>\n",
       "<table border=\"1\" class=\"dataframe\">\n",
       "  <thead>\n",
       "    <tr style=\"text-align: right;\">\n",
       "      <th></th>\n",
       "      <th>0</th>\n",
       "      <th>1</th>\n",
       "      <th>2</th>\n",
       "      <th>3</th>\n",
       "      <th>4</th>\n",
       "      <th>5</th>\n",
       "      <th>6</th>\n",
       "      <th>7</th>\n",
       "      <th>8</th>\n",
       "      <th>9</th>\n",
       "    </tr>\n",
       "  </thead>\n",
       "  <tbody>\n",
       "    <tr>\n",
       "      <th>0</th>\n",
       "      <td>1.066926e-05</td>\n",
       "      <td>6.951102e-10</td>\n",
       "      <td>3.496849e-05</td>\n",
       "      <td>9.018376e-03</td>\n",
       "      <td>2.767005e-07</td>\n",
       "      <td>3.160903e-07</td>\n",
       "      <td>3.386631e-10</td>\n",
       "      <td>9.908823e-01</td>\n",
       "      <td>2.251144e-05</td>\n",
       "      <td>3.063661e-05</td>\n",
       "    </tr>\n",
       "    <tr>\n",
       "      <th>1</th>\n",
       "      <td>1.088065e-02</td>\n",
       "      <td>1.660282e-04</td>\n",
       "      <td>9.857657e-01</td>\n",
       "      <td>1.209590e-03</td>\n",
       "      <td>1.414739e-17</td>\n",
       "      <td>1.300246e-03</td>\n",
       "      <td>6.009216e-04</td>\n",
       "      <td>1.051575e-14</td>\n",
       "      <td>7.681068e-05</td>\n",
       "      <td>2.262092e-09</td>\n",
       "    </tr>\n",
       "    <tr>\n",
       "      <th>2</th>\n",
       "      <td>3.561673e-05</td>\n",
       "      <td>9.911509e-01</td>\n",
       "      <td>1.366420e-03</td>\n",
       "      <td>4.886065e-04</td>\n",
       "      <td>5.174410e-05</td>\n",
       "      <td>1.595727e-04</td>\n",
       "      <td>6.994194e-04</td>\n",
       "      <td>2.740916e-03</td>\n",
       "      <td>3.285571e-03</td>\n",
       "      <td>2.129794e-05</td>\n",
       "    </tr>\n",
       "    <tr>\n",
       "      <th>3</th>\n",
       "      <td>9.997600e-01</td>\n",
       "      <td>5.524921e-11</td>\n",
       "      <td>9.495391e-05</td>\n",
       "      <td>1.347675e-06</td>\n",
       "      <td>1.687594e-09</td>\n",
       "      <td>1.416450e-05</td>\n",
       "      <td>6.342055e-05</td>\n",
       "      <td>5.663731e-05</td>\n",
       "      <td>2.484066e-08</td>\n",
       "      <td>9.498130e-06</td>\n",
       "    </tr>\n",
       "    <tr>\n",
       "      <th>4</th>\n",
       "      <td>1.717339e-05</td>\n",
       "      <td>2.010040e-10</td>\n",
       "      <td>2.436511e-04</td>\n",
       "      <td>3.918405e-06</td>\n",
       "      <td>9.952785e-01</td>\n",
       "      <td>1.077308e-06</td>\n",
       "      <td>1.367626e-05</td>\n",
       "      <td>4.594560e-04</td>\n",
       "      <td>2.773933e-05</td>\n",
       "      <td>3.954767e-03</td>\n",
       "    </tr>\n",
       "    <tr>\n",
       "      <th>...</th>\n",
       "      <td>...</td>\n",
       "      <td>...</td>\n",
       "      <td>...</td>\n",
       "      <td>...</td>\n",
       "      <td>...</td>\n",
       "      <td>...</td>\n",
       "      <td>...</td>\n",
       "      <td>...</td>\n",
       "      <td>...</td>\n",
       "      <td>...</td>\n",
       "    </tr>\n",
       "    <tr>\n",
       "      <th>9995</th>\n",
       "      <td>1.371050e-10</td>\n",
       "      <td>4.549222e-05</td>\n",
       "      <td>9.997725e-01</td>\n",
       "      <td>1.809277e-04</td>\n",
       "      <td>7.387456e-16</td>\n",
       "      <td>9.274285e-10</td>\n",
       "      <td>2.156569e-10</td>\n",
       "      <td>2.421288e-11</td>\n",
       "      <td>1.025948e-06</td>\n",
       "      <td>5.423002e-13</td>\n",
       "    </tr>\n",
       "    <tr>\n",
       "      <th>9996</th>\n",
       "      <td>1.701441e-10</td>\n",
       "      <td>8.531906e-06</td>\n",
       "      <td>2.781094e-07</td>\n",
       "      <td>9.998606e-01</td>\n",
       "      <td>2.165488e-15</td>\n",
       "      <td>1.301911e-04</td>\n",
       "      <td>1.689233e-12</td>\n",
       "      <td>1.060975e-08</td>\n",
       "      <td>4.780679e-08</td>\n",
       "      <td>2.743262e-07</td>\n",
       "    </tr>\n",
       "    <tr>\n",
       "      <th>9997</th>\n",
       "      <td>1.442970e-12</td>\n",
       "      <td>2.507017e-13</td>\n",
       "      <td>2.767277e-13</td>\n",
       "      <td>5.841648e-08</td>\n",
       "      <td>9.990149e-01</td>\n",
       "      <td>8.392517e-08</td>\n",
       "      <td>7.915856e-10</td>\n",
       "      <td>4.880647e-06</td>\n",
       "      <td>6.507991e-06</td>\n",
       "      <td>9.735938e-04</td>\n",
       "    </tr>\n",
       "    <tr>\n",
       "      <th>9998</th>\n",
       "      <td>3.908562e-06</td>\n",
       "      <td>1.049329e-07</td>\n",
       "      <td>1.456751e-07</td>\n",
       "      <td>1.015025e-05</td>\n",
       "      <td>3.528343e-05</td>\n",
       "      <td>9.437538e-01</td>\n",
       "      <td>6.441257e-07</td>\n",
       "      <td>2.425637e-07</td>\n",
       "      <td>5.619575e-02</td>\n",
       "      <td>6.013123e-10</td>\n",
       "    </tr>\n",
       "    <tr>\n",
       "      <th>9999</th>\n",
       "      <td>5.896895e-08</td>\n",
       "      <td>1.892076e-16</td>\n",
       "      <td>1.871682e-04</td>\n",
       "      <td>2.220206e-07</td>\n",
       "      <td>1.803064e-08</td>\n",
       "      <td>7.192431e-07</td>\n",
       "      <td>9.998118e-01</td>\n",
       "      <td>5.121976e-14</td>\n",
       "      <td>4.071842e-11</td>\n",
       "      <td>2.112235e-11</td>\n",
       "    </tr>\n",
       "  </tbody>\n",
       "</table>\n",
       "<p>10000 rows × 10 columns</p>\n",
       "</div>"
      ],
      "text/plain": [
       "                 0             1             2             3             4  \\\n",
       "0     1.066926e-05  6.951102e-10  3.496849e-05  9.018376e-03  2.767005e-07   \n",
       "1     1.088065e-02  1.660282e-04  9.857657e-01  1.209590e-03  1.414739e-17   \n",
       "2     3.561673e-05  9.911509e-01  1.366420e-03  4.886065e-04  5.174410e-05   \n",
       "3     9.997600e-01  5.524921e-11  9.495391e-05  1.347675e-06  1.687594e-09   \n",
       "4     1.717339e-05  2.010040e-10  2.436511e-04  3.918405e-06  9.952785e-01   \n",
       "...            ...           ...           ...           ...           ...   \n",
       "9995  1.371050e-10  4.549222e-05  9.997725e-01  1.809277e-04  7.387456e-16   \n",
       "9996  1.701441e-10  8.531906e-06  2.781094e-07  9.998606e-01  2.165488e-15   \n",
       "9997  1.442970e-12  2.507017e-13  2.767277e-13  5.841648e-08  9.990149e-01   \n",
       "9998  3.908562e-06  1.049329e-07  1.456751e-07  1.015025e-05  3.528343e-05   \n",
       "9999  5.896895e-08  1.892076e-16  1.871682e-04  2.220206e-07  1.803064e-08   \n",
       "\n",
       "                 5             6             7             8             9  \n",
       "0     3.160903e-07  3.386631e-10  9.908823e-01  2.251144e-05  3.063661e-05  \n",
       "1     1.300246e-03  6.009216e-04  1.051575e-14  7.681068e-05  2.262092e-09  \n",
       "2     1.595727e-04  6.994194e-04  2.740916e-03  3.285571e-03  2.129794e-05  \n",
       "3     1.416450e-05  6.342055e-05  5.663731e-05  2.484066e-08  9.498130e-06  \n",
       "4     1.077308e-06  1.367626e-05  4.594560e-04  2.773933e-05  3.954767e-03  \n",
       "...            ...           ...           ...           ...           ...  \n",
       "9995  9.274285e-10  2.156569e-10  2.421288e-11  1.025948e-06  5.423002e-13  \n",
       "9996  1.301911e-04  1.689233e-12  1.060975e-08  4.780679e-08  2.743262e-07  \n",
       "9997  8.392517e-08  7.915856e-10  4.880647e-06  6.507991e-06  9.735938e-04  \n",
       "9998  9.437538e-01  6.441257e-07  2.425637e-07  5.619575e-02  6.013123e-10  \n",
       "9999  7.192431e-07  9.998118e-01  5.121976e-14  4.071842e-11  2.112235e-11  \n",
       "\n",
       "[10000 rows x 10 columns]"
      ]
     },
     "execution_count": 8,
     "metadata": {},
     "output_type": "execute_result"
    }
   ],
   "source": [
    "pd.DataFrame(preds)"
   ]
  },
  {
   "cell_type": "code",
   "execution_count": 9,
   "metadata": {},
   "outputs": [
    {
     "data": {
      "text/plain": [
       "array([7, 2, 1, ..., 4, 5, 6], dtype=int64)"
      ]
     },
     "execution_count": 9,
     "metadata": {},
     "output_type": "execute_result"
    }
   ],
   "source": [
    "np.argmax(preds, axis=1)"
   ]
  },
  {
   "cell_type": "code",
   "execution_count": 10,
   "metadata": {},
   "outputs": [],
   "source": [
    "# Загрузка данных MNIST\n",
    "(x_train, y_train), (x_test, y_test) = mnist.load_data()\n",
    "\n",
    "# Размерность данных\n",
    "input_shape = (28, 28, 1) \n",
    "\n",
    "# Преобразование данных и нормализация\n",
    "x_train = x_train.reshape(x_train.shape[0], *input_shape) # ---> аналогично x_train.reshape(60000, 28, 28, 1) с одним ЦВЕТОВЫМ ФИЛЬТРОМ\n",
    "x_test = x_test.reshape(x_test.shape[0], *input_shape)\n",
    "x_train = x_train / 255.0\n",
    "x_test = x_test / 255.0"
   ]
  },
  {
   "cell_type": "code",
   "execution_count": 11,
   "metadata": {},
   "outputs": [
    {
     "name": "stderr",
     "output_type": "stream",
     "text": [
      "c:\\Users\\gavri\\AppData\\Local\\Programs\\Python\\Python312\\Lib\\site-packages\\keras\\src\\layers\\convolutional\\base_conv.py:107: UserWarning: Do not pass an `input_shape`/`input_dim` argument to a layer. When using Sequential models, prefer using an `Input(shape)` object as the first layer in the model instead.\n",
      "  super().__init__(activity_regularizer=activity_regularizer, **kwargs)\n"
     ]
    },
    {
     "name": "stdout",
     "output_type": "stream",
     "text": [
      "Epoch 1/10\n",
      "\u001b[1m1875/1875\u001b[0m \u001b[32m━━━━━━━━━━━━━━━━━━━━\u001b[0m\u001b[37m\u001b[0m \u001b[1m12s\u001b[0m 6ms/step - accuracy: 0.8615 - loss: 0.4625 - val_accuracy: 0.9763 - val_loss: 0.0818\n",
      "Epoch 2/10\n",
      "\u001b[1m1875/1875\u001b[0m \u001b[32m━━━━━━━━━━━━━━━━━━━━\u001b[0m\u001b[37m\u001b[0m \u001b[1m10s\u001b[0m 5ms/step - accuracy: 0.9771 - loss: 0.0759 - val_accuracy: 0.9805 - val_loss: 0.0567\n",
      "Epoch 3/10\n",
      "\u001b[1m1875/1875\u001b[0m \u001b[32m━━━━━━━━━━━━━━━━━━━━\u001b[0m\u001b[37m\u001b[0m \u001b[1m10s\u001b[0m 5ms/step - accuracy: 0.9835 - loss: 0.0547 - val_accuracy: 0.9823 - val_loss: 0.0544\n",
      "Epoch 4/10\n",
      "\u001b[1m1875/1875\u001b[0m \u001b[32m━━━━━━━━━━━━━━━━━━━━\u001b[0m\u001b[37m\u001b[0m \u001b[1m10s\u001b[0m 5ms/step - accuracy: 0.9882 - loss: 0.0401 - val_accuracy: 0.9808 - val_loss: 0.0624\n",
      "Epoch 5/10\n",
      "\u001b[1m1875/1875\u001b[0m \u001b[32m━━━━━━━━━━━━━━━━━━━━\u001b[0m\u001b[37m\u001b[0m \u001b[1m10s\u001b[0m 5ms/step - accuracy: 0.9902 - loss: 0.0335 - val_accuracy: 0.9862 - val_loss: 0.0466\n",
      "Epoch 6/10\n",
      "\u001b[1m1875/1875\u001b[0m \u001b[32m━━━━━━━━━━━━━━━━━━━━\u001b[0m\u001b[37m\u001b[0m \u001b[1m10s\u001b[0m 5ms/step - accuracy: 0.9921 - loss: 0.0267 - val_accuracy: 0.9856 - val_loss: 0.0489\n",
      "Epoch 7/10\n",
      "\u001b[1m1875/1875\u001b[0m \u001b[32m━━━━━━━━━━━━━━━━━━━━\u001b[0m\u001b[37m\u001b[0m \u001b[1m11s\u001b[0m 5ms/step - accuracy: 0.9942 - loss: 0.0191 - val_accuracy: 0.9851 - val_loss: 0.0499\n",
      "Epoch 8/10\n",
      "\u001b[1m1875/1875\u001b[0m \u001b[32m━━━━━━━━━━━━━━━━━━━━\u001b[0m\u001b[37m\u001b[0m \u001b[1m10s\u001b[0m 5ms/step - accuracy: 0.9945 - loss: 0.0168 - val_accuracy: 0.9856 - val_loss: 0.0533\n",
      "Epoch 9/10\n",
      "\u001b[1m1875/1875\u001b[0m \u001b[32m━━━━━━━━━━━━━━━━━━━━\u001b[0m\u001b[37m\u001b[0m \u001b[1m10s\u001b[0m 5ms/step - accuracy: 0.9959 - loss: 0.0131 - val_accuracy: 0.9851 - val_loss: 0.0526\n",
      "Epoch 10/10\n",
      "\u001b[1m1875/1875\u001b[0m \u001b[32m━━━━━━━━━━━━━━━━━━━━\u001b[0m\u001b[37m\u001b[0m \u001b[1m10s\u001b[0m 5ms/step - accuracy: 0.9963 - loss: 0.0114 - val_accuracy: 0.9863 - val_loss: 0.0526\n",
      "\u001b[1m313/313\u001b[0m \u001b[32m━━━━━━━━━━━━━━━━━━━━\u001b[0m\u001b[37m\u001b[0m \u001b[1m1s\u001b[0m 2ms/step - accuracy: 0.9822 - loss: 0.0633\n",
      "Test accuracy: 0.986299991607666\n"
     ]
    }
   ],
   "source": [
    "# Создание модели\n",
    "model = Sequential()\n",
    "model.add(Conv2D(32, kernel_size=(4, 4), activation='relu', input_shape=input_shape))\n",
    "model.add(MaxPooling2D(pool_size=(2, 2)))\n",
    "model.add(Flatten())\n",
    "model.add(Dense(16, activation='relu'))\n",
    "model.add(Dense(10, activation='softmax'))\n",
    "\n",
    "# Компиляция модели\n",
    "model.compile(optimizer='adam',\n",
    "              loss='sparse_categorical_crossentropy',\n",
    "              metrics=['accuracy'])\n",
    "\n",
    "# Обучение модели\n",
    "model.fit(x_train, y_train, epochs=10, batch_size=32, validation_data=(x_test, y_test))\n",
    "\n",
    "# Оценка модели на тестовых данных\n",
    "test_loss, test_acc = model.evaluate(x_test, y_test)\n",
    "print('Test accuracy:', test_acc)"
   ]
  },
  {
   "cell_type": "code",
   "execution_count": 12,
   "metadata": {},
   "outputs": [],
   "source": [
    "# Загрузка данных CIFAR-10\n",
    "(x_train, y_train), (x_test, y_test) = cifar10.load_data()\n",
    "\n",
    "# Преобразование и нормализация данных\n",
    "x_train = x_train / 255.0\n",
    "x_test = x_test / 255.0"
   ]
  },
  {
   "cell_type": "code",
   "execution_count": 13,
   "metadata": {},
   "outputs": [
    {
     "name": "stdout",
     "output_type": "stream",
     "text": [
      "Epoch 1/10\n",
      "\u001b[1m391/391\u001b[0m \u001b[32m━━━━━━━━━━━━━━━━━━━━\u001b[0m\u001b[37m\u001b[0m \u001b[1m23s\u001b[0m 56ms/step - accuracy: 0.3704 - loss: 1.7696 - val_accuracy: 0.5430 - val_loss: 1.2813\n",
      "Epoch 2/10\n",
      "\u001b[1m391/391\u001b[0m \u001b[32m━━━━━━━━━━━━━━━━━━━━\u001b[0m\u001b[37m\u001b[0m \u001b[1m21s\u001b[0m 54ms/step - accuracy: 0.5808 - loss: 1.1990 - val_accuracy: 0.5767 - val_loss: 1.1913\n",
      "Epoch 3/10\n",
      "\u001b[1m391/391\u001b[0m \u001b[32m━━━━━━━━━━━━━━━━━━━━\u001b[0m\u001b[37m\u001b[0m \u001b[1m20s\u001b[0m 52ms/step - accuracy: 0.6210 - loss: 1.0789 - val_accuracy: 0.5962 - val_loss: 1.1397\n",
      "Epoch 4/10\n",
      "\u001b[1m391/391\u001b[0m \u001b[32m━━━━━━━━━━━━━━━━━━━━\u001b[0m\u001b[37m\u001b[0m \u001b[1m21s\u001b[0m 53ms/step - accuracy: 0.6574 - loss: 0.9754 - val_accuracy: 0.6321 - val_loss: 1.0542\n",
      "Epoch 5/10\n",
      "\u001b[1m391/391\u001b[0m \u001b[32m━━━━━━━━━━━━━━━━━━━━\u001b[0m\u001b[37m\u001b[0m \u001b[1m20s\u001b[0m 52ms/step - accuracy: 0.6876 - loss: 0.8845 - val_accuracy: 0.6379 - val_loss: 1.0263\n",
      "Epoch 6/10\n",
      "\u001b[1m391/391\u001b[0m \u001b[32m━━━━━━━━━━━━━━━━━━━━\u001b[0m\u001b[37m\u001b[0m \u001b[1m21s\u001b[0m 53ms/step - accuracy: 0.7118 - loss: 0.8304 - val_accuracy: 0.6445 - val_loss: 1.0210\n",
      "Epoch 7/10\n",
      "\u001b[1m391/391\u001b[0m \u001b[32m━━━━━━━━━━━━━━━━━━━━\u001b[0m\u001b[37m\u001b[0m \u001b[1m20s\u001b[0m 52ms/step - accuracy: 0.7420 - loss: 0.7463 - val_accuracy: 0.6544 - val_loss: 0.9937\n",
      "Epoch 8/10\n",
      "\u001b[1m391/391\u001b[0m \u001b[32m━━━━━━━━━━━━━━━━━━━━\u001b[0m\u001b[37m\u001b[0m \u001b[1m21s\u001b[0m 53ms/step - accuracy: 0.7611 - loss: 0.6931 - val_accuracy: 0.6620 - val_loss: 0.9762\n",
      "Epoch 9/10\n",
      "\u001b[1m391/391\u001b[0m \u001b[32m━━━━━━━━━━━━━━━━━━━━\u001b[0m\u001b[37m\u001b[0m \u001b[1m21s\u001b[0m 55ms/step - accuracy: 0.7788 - loss: 0.6387 - val_accuracy: 0.6638 - val_loss: 0.9862\n",
      "Epoch 10/10\n",
      "\u001b[1m391/391\u001b[0m \u001b[32m━━━━━━━━━━━━━━━━━━━━\u001b[0m\u001b[37m\u001b[0m \u001b[1m42s\u001b[0m 56ms/step - accuracy: 0.8057 - loss: 0.5664 - val_accuracy: 0.6533 - val_loss: 1.0464\n",
      "\u001b[1m313/313\u001b[0m \u001b[32m━━━━━━━━━━━━━━━━━━━━\u001b[0m\u001b[37m\u001b[0m \u001b[1m2s\u001b[0m 7ms/step - accuracy: 0.6577 - loss: 1.0352\n",
      "Test accuracy: 0.6532999873161316\n"
     ]
    }
   ],
   "source": [
    "# Создание модели\n",
    "model = Sequential()\n",
    "model.add(Conv2D(32, (3, 3), activation='relu', padding='same', input_shape=(32, 32, 3)))\n",
    "model.add(MaxPooling2D(pool_size=(2, 2)))\n",
    "model.add(Flatten())\n",
    "model.add(Dense(256, activation='relu'))\n",
    "model.add(Dense(10, activation='softmax'))\n",
    "\n",
    "# Компиляция модели\n",
    "model.compile(optimizer='adam',\n",
    "              loss='sparse_categorical_crossentropy',\n",
    "              metrics=['accuracy'])\n",
    "\n",
    "# Обучение модели\n",
    "model.fit(x_train, y_train, epochs=10, batch_size=128, validation_data=(x_test, y_test))\n",
    "\n",
    "# Оценка модели на тестовых данных\n",
    "test_loss, test_acc = model.evaluate(x_test, y_test)\n",
    "print('Test accuracy:', test_acc)"
   ]
  },
  {
   "cell_type": "markdown",
   "metadata": {},
   "source": [
    "### Пример как можно загрузить свой датасет изображений в Keras"
   ]
  },
  {
   "cell_type": "code",
   "execution_count": 14,
   "metadata": {},
   "outputs": [
    {
     "name": "stdout",
     "output_type": "stream",
     "text": [
      "Found 6862 files belonging to 11 classes.\n",
      "Using 5490 files for training.\n",
      "Using 1372 files for validation.\n"
     ]
    }
   ],
   "source": [
    "train_ds, val_ds = tf.keras.utils.image_dataset_from_directory(\n",
    "  r'dataset',\n",
    "  validation_split=0.2,\n",
    "  subset='both',\n",
    "  seed=123,\n",
    "  image_size=(128, 128),\n",
    "  batch_size=128)"
   ]
  },
  {
   "cell_type": "code",
   "execution_count": 15,
   "metadata": {},
   "outputs": [],
   "source": [
    "model = Sequential()\n",
    "model.add(Rescaling(1./255))\n",
    "model.add(Conv2D(64, (3, 3), activation='relu', padding='same'))\n",
    "model.add(MaxPooling2D(pool_size=(2, 2)))\n",
    "model.add(Conv2D(128, (3, 3), activation='relu', padding='same'))\n",
    "model.add(MaxPooling2D(pool_size=(2, 2)))\n",
    "model.add(Flatten())\n",
    "model.add(Dense(256, activation='relu'))\n",
    "model.add(Dense(64, activation='relu'))\n",
    "model.add(Dense(11, activation='softmax'))\n",
    "\n",
    "# Компиляция модели\n",
    "model.compile(optimizer='adam',\n",
    "              loss='sparse_categorical_crossentropy',\n",
    "              metrics=['accuracy'])"
   ]
  },
  {
   "cell_type": "code",
   "execution_count": 16,
   "metadata": {},
   "outputs": [
    {
     "name": "stdout",
     "output_type": "stream",
     "text": [
      "Epoch 1/10\n",
      "\u001b[1m43/43\u001b[0m \u001b[32m━━━━━━━━━━━━━━━━━━━━\u001b[0m\u001b[37m\u001b[0m \u001b[1m131s\u001b[0m 3s/step - accuracy: 0.2941 - loss: 2.1711 - val_accuracy: 0.6020 - val_loss: 1.1719\n",
      "Epoch 2/10\n",
      "\u001b[1m43/43\u001b[0m \u001b[32m━━━━━━━━━━━━━━━━━━━━\u001b[0m\u001b[37m\u001b[0m \u001b[1m118s\u001b[0m 3s/step - accuracy: 0.6337 - loss: 1.0685 - val_accuracy: 0.6859 - val_loss: 1.0014\n",
      "Epoch 3/10\n",
      "\u001b[1m43/43\u001b[0m \u001b[32m━━━━━━━━━━━━━━━━━━━━\u001b[0m\u001b[37m\u001b[0m \u001b[1m117s\u001b[0m 3s/step - accuracy: 0.7256 - loss: 0.8057 - val_accuracy: 0.6764 - val_loss: 1.0458\n",
      "Epoch 4/10\n",
      "\u001b[1m43/43\u001b[0m \u001b[32m━━━━━━━━━━━━━━━━━━━━\u001b[0m\u001b[37m\u001b[0m \u001b[1m119s\u001b[0m 3s/step - accuracy: 0.7857 - loss: 0.6277 - val_accuracy: 0.7165 - val_loss: 0.9224\n",
      "Epoch 5/10\n",
      "\u001b[1m43/43\u001b[0m \u001b[32m━━━━━━━━━━━━━━━━━━━━\u001b[0m\u001b[37m\u001b[0m \u001b[1m116s\u001b[0m 3s/step - accuracy: 0.8664 - loss: 0.4215 - val_accuracy: 0.7456 - val_loss: 0.8999\n",
      "Epoch 6/10\n",
      "\u001b[1m43/43\u001b[0m \u001b[32m━━━━━━━━━━━━━━━━━━━━\u001b[0m\u001b[37m\u001b[0m \u001b[1m153s\u001b[0m 4s/step - accuracy: 0.9214 - loss: 0.2568 - val_accuracy: 0.7274 - val_loss: 1.0496\n",
      "Epoch 7/10\n",
      "\u001b[1m43/43\u001b[0m \u001b[32m━━━━━━━━━━━━━━━━━━━━\u001b[0m\u001b[37m\u001b[0m \u001b[1m142s\u001b[0m 3s/step - accuracy: 0.9446 - loss: 0.1972 - val_accuracy: 0.7369 - val_loss: 1.0779\n",
      "Epoch 8/10\n",
      "\u001b[1m43/43\u001b[0m \u001b[32m━━━━━━━━━━━━━━━━━━━━\u001b[0m\u001b[37m\u001b[0m \u001b[1m149s\u001b[0m 3s/step - accuracy: 0.9648 - loss: 0.1304 - val_accuracy: 0.7157 - val_loss: 1.3082\n",
      "Epoch 9/10\n",
      "\u001b[1m43/43\u001b[0m \u001b[32m━━━━━━━━━━━━━━━━━━━━\u001b[0m\u001b[37m\u001b[0m \u001b[1m125s\u001b[0m 3s/step - accuracy: 0.9693 - loss: 0.1008 - val_accuracy: 0.7216 - val_loss: 1.2909\n",
      "Epoch 10/10\n",
      "\u001b[1m43/43\u001b[0m \u001b[32m━━━━━━━━━━━━━━━━━━━━\u001b[0m\u001b[37m\u001b[0m \u001b[1m124s\u001b[0m 3s/step - accuracy: 0.9866 - loss: 0.0524 - val_accuracy: 0.7369 - val_loss: 1.3878\n"
     ]
    },
    {
     "data": {
      "text/plain": [
       "<keras.src.callbacks.history.History at 0x1dfaecb56d0>"
      ]
     },
     "execution_count": 16,
     "metadata": {},
     "output_type": "execute_result"
    }
   ],
   "source": [
    "model.fit(train_ds, validation_data=val_ds, epochs=10)"
   ]
  },
  {
   "cell_type": "code",
   "execution_count": null,
   "metadata": {},
   "outputs": [],
   "source": []
  }
 ],
 "metadata": {
  "kernelspec": {
   "display_name": "Python 3",
   "language": "python",
   "name": "python3"
  },
  "language_info": {
   "codemirror_mode": {
    "name": "ipython",
    "version": 3
   },
   "file_extension": ".py",
   "mimetype": "text/x-python",
   "name": "python",
   "nbconvert_exporter": "python",
   "pygments_lexer": "ipython3",
   "version": "3.12.3"
  }
 },
 "nbformat": 4,
 "nbformat_minor": 2
}
