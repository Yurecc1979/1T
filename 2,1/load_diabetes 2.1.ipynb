{
 "cells": [
  {
   "cell_type": "markdown",
   "metadata": {},
   "source": [
    "## Тема 2.1 Введение в ML. Основные задачи, виды классических моделей, метрики качества моделей."
   ]
  },
  {
   "cell_type": "markdown",
   "metadata": {},
   "source": [
    "### 1. Обучение первой модели"
   ]
  },
  {
   "cell_type": "markdown",
   "metadata": {},
   "source": [
    "_Характеристики набора данных_:\n",
    "\n",
    "- **Количество экземпляров**: 150 (по 50 в каждом из трех классов)\n",
    "\n",
    "- **Количество атрибутов**: 4 числовых, прогнозных атрибута и класс\n",
    "\n",
    "- **Информация об атрибутах**:\n",
    "\n",
    "    - длина чашелистика (sepal) в см\n",
    "    - ширина чашелистика (petal) в см\n",
    "    - длина лепестка в см\n",
    "    - ширина лепестка в см\n",
    "    - класс:\n",
    "        - Ирис-Сетоса (setosa)\n",
    "        - Ирис-разноцветный (versicolor)\n",
    "        - Ирис-Вирджиния (virginica)"
   ]
  },
  {
   "cell_type": "markdown",
   "metadata": {},
   "source": [
    "https://scikit-learn.org/stable/modules/generated/sklearn.datasets.load_iris.html"
   ]
  },
  {
   "cell_type": "markdown",
   "metadata": {},
   "source": [
    "Задача:\n",
    "\n",
    "Построить модель машинного обучения для решения задачи регрессии: необходимо спрогнозировать прогресс заболевания диабетом через год после исходного уровня.\n",
    "\n",
    "План решения:\n",
    "1. В документации библиотеки scikit learn найдите, как загрузить датасет для построения модели прогноза прогрессирования заболевания через год после исходного уровня (load_diabetes из sklearn.datasets)."
   ]
  },
  {
   "cell_type": "code",
   "execution_count": 41,
   "metadata": {},
   "outputs": [],
   "source": [
    "from sklearn.datasets import load_diabetes\n",
    "from sklearn import tree\n",
    "from sklearn.metrics import mean_squared_error, root_mean_squared_error, r2_score, mean_absolute_error\n",
    "from sklearn.model_selection import train_test_split\n",
    "from matplotlib import pyplot as plt\n",
    "from matplotlib import pyplot as plt\n",
    "import pandas as pd\n",
    "import numpy as np\n",
    "from sklearn.linear_model import LinearRegression"
   ]
  },
  {
   "cell_type": "code",
   "execution_count": 42,
   "metadata": {},
   "outputs": [
    {
     "data": {
      "text/html": [
       "<div>\n",
       "<style scoped>\n",
       "    .dataframe tbody tr th:only-of-type {\n",
       "        vertical-align: middle;\n",
       "    }\n",
       "\n",
       "    .dataframe tbody tr th {\n",
       "        vertical-align: top;\n",
       "    }\n",
       "\n",
       "    .dataframe thead th {\n",
       "        text-align: right;\n",
       "    }\n",
       "</style>\n",
       "<table border=\"1\" class=\"dataframe\">\n",
       "  <thead>\n",
       "    <tr style=\"text-align: right;\">\n",
       "      <th></th>\n",
       "      <th>0</th>\n",
       "      <th>1</th>\n",
       "      <th>2</th>\n",
       "      <th>3</th>\n",
       "      <th>4</th>\n",
       "    </tr>\n",
       "  </thead>\n",
       "  <tbody>\n",
       "    <tr>\n",
       "      <th>age</th>\n",
       "      <td>0.038076</td>\n",
       "      <td>-0.001882</td>\n",
       "      <td>0.085299</td>\n",
       "      <td>-0.089063</td>\n",
       "      <td>0.005383</td>\n",
       "    </tr>\n",
       "    <tr>\n",
       "      <th>sex</th>\n",
       "      <td>0.050680</td>\n",
       "      <td>-0.044642</td>\n",
       "      <td>0.050680</td>\n",
       "      <td>-0.044642</td>\n",
       "      <td>-0.044642</td>\n",
       "    </tr>\n",
       "    <tr>\n",
       "      <th>bmi</th>\n",
       "      <td>0.061696</td>\n",
       "      <td>-0.051474</td>\n",
       "      <td>0.044451</td>\n",
       "      <td>-0.011595</td>\n",
       "      <td>-0.036385</td>\n",
       "    </tr>\n",
       "    <tr>\n",
       "      <th>bp</th>\n",
       "      <td>0.021872</td>\n",
       "      <td>-0.026328</td>\n",
       "      <td>-0.005670</td>\n",
       "      <td>-0.036656</td>\n",
       "      <td>0.021872</td>\n",
       "    </tr>\n",
       "    <tr>\n",
       "      <th>s1</th>\n",
       "      <td>-0.044223</td>\n",
       "      <td>-0.008449</td>\n",
       "      <td>-0.045599</td>\n",
       "      <td>0.012191</td>\n",
       "      <td>0.003935</td>\n",
       "    </tr>\n",
       "    <tr>\n",
       "      <th>s2</th>\n",
       "      <td>-0.034821</td>\n",
       "      <td>-0.019163</td>\n",
       "      <td>-0.034194</td>\n",
       "      <td>0.024991</td>\n",
       "      <td>0.015596</td>\n",
       "    </tr>\n",
       "    <tr>\n",
       "      <th>s3</th>\n",
       "      <td>-0.043401</td>\n",
       "      <td>0.074412</td>\n",
       "      <td>-0.032356</td>\n",
       "      <td>-0.036038</td>\n",
       "      <td>0.008142</td>\n",
       "    </tr>\n",
       "    <tr>\n",
       "      <th>s4</th>\n",
       "      <td>-0.002592</td>\n",
       "      <td>-0.039493</td>\n",
       "      <td>-0.002592</td>\n",
       "      <td>0.034309</td>\n",
       "      <td>-0.002592</td>\n",
       "    </tr>\n",
       "    <tr>\n",
       "      <th>s5</th>\n",
       "      <td>0.019907</td>\n",
       "      <td>-0.068332</td>\n",
       "      <td>0.002861</td>\n",
       "      <td>0.022688</td>\n",
       "      <td>-0.031988</td>\n",
       "    </tr>\n",
       "    <tr>\n",
       "      <th>s6</th>\n",
       "      <td>-0.017646</td>\n",
       "      <td>-0.092204</td>\n",
       "      <td>-0.025930</td>\n",
       "      <td>-0.009362</td>\n",
       "      <td>-0.046641</td>\n",
       "    </tr>\n",
       "    <tr>\n",
       "      <th>target</th>\n",
       "      <td>151.000000</td>\n",
       "      <td>75.000000</td>\n",
       "      <td>141.000000</td>\n",
       "      <td>206.000000</td>\n",
       "      <td>135.000000</td>\n",
       "    </tr>\n",
       "  </tbody>\n",
       "</table>\n",
       "</div>"
      ],
      "text/plain": [
       "                 0          1           2           3           4\n",
       "age       0.038076  -0.001882    0.085299   -0.089063    0.005383\n",
       "sex       0.050680  -0.044642    0.050680   -0.044642   -0.044642\n",
       "bmi       0.061696  -0.051474    0.044451   -0.011595   -0.036385\n",
       "bp        0.021872  -0.026328   -0.005670   -0.036656    0.021872\n",
       "s1       -0.044223  -0.008449   -0.045599    0.012191    0.003935\n",
       "s2       -0.034821  -0.019163   -0.034194    0.024991    0.015596\n",
       "s3       -0.043401   0.074412   -0.032356   -0.036038    0.008142\n",
       "s4       -0.002592  -0.039493   -0.002592    0.034309   -0.002592\n",
       "s5        0.019907  -0.068332    0.002861    0.022688   -0.031988\n",
       "s6       -0.017646  -0.092204   -0.025930   -0.009362   -0.046641\n",
       "target  151.000000  75.000000  141.000000  206.000000  135.000000"
      ]
     },
     "execution_count": 42,
     "metadata": {},
     "output_type": "execute_result"
    }
   ],
   "source": [
    "df = load_diabetes(as_frame=True).frame\n",
    "df.head().T"
   ]
  },
  {
   "cell_type": "markdown",
   "metadata": {},
   "source": [
    "2. Выведите содержимое поля DESCR, которое вернет функция, загружающая датасет, чтобы изучить содержимое датасета.\n",
    "\n"
   ]
  },
  {
   "cell_type": "code",
   "execution_count": 43,
   "metadata": {},
   "outputs": [
    {
     "name": "stdout",
     "output_type": "stream",
     "text": [
      ".. _diabetes_dataset:\n",
      "\n",
      "Diabetes dataset\n",
      "----------------\n",
      "\n",
      "Ten baseline variables, age, sex, body mass index, average blood\n",
      "pressure, and six blood serum measurements were obtained for each of n =\n",
      "442 diabetes patients, as well as the response of interest, a\n",
      "quantitative measure of disease progression one year after baseline.\n",
      "\n",
      "**Data Set Characteristics:**\n",
      "\n",
      ":Number of Instances: 442\n",
      "\n",
      ":Number of Attributes: First 10 columns are numeric predictive values\n",
      "\n",
      ":Target: Column 11 is a quantitative measure of disease progression one year after baseline\n",
      "\n",
      ":Attribute Information:\n",
      "    - age     age in years\n",
      "    - sex\n",
      "    - bmi     body mass index\n",
      "    - bp      average blood pressure\n",
      "    - s1      tc, total serum cholesterol\n",
      "    - s2      ldl, low-density lipoproteins\n",
      "    - s3      hdl, high-density lipoproteins\n",
      "    - s4      tch, total cholesterol / HDL\n",
      "    - s5      ltg, possibly log of serum triglycerides level\n",
      "    - s6      glu, blood sugar level\n",
      "\n",
      "Note: Each of these 10 feature variables have been mean centered and scaled by the standard deviation times the square root of `n_samples` (i.e. the sum of squares of each column totals 1).\n",
      "\n",
      "Source URL:\n",
      "https://www4.stat.ncsu.edu/~boos/var.select/diabetes.html\n",
      "\n",
      "For more information see:\n",
      "Bradley Efron, Trevor Hastie, Iain Johnstone and Robert Tibshirani (2004) \"Least Angle Regression,\" Annals of Statistics (with discussion), 407-499.\n",
      "(https://web.stanford.edu/~hastie/Papers/LARS/LeastAngle_2002.pdf)\n",
      "\n"
     ]
    }
   ],
   "source": [
    "print(load_diabetes().DESCR)"
   ]
  },
  {
   "cell_type": "code",
   "execution_count": 44,
   "metadata": {},
   "outputs": [
    {
     "data": {
      "text/html": [
       "<div>\n",
       "<style scoped>\n",
       "    .dataframe tbody tr th:only-of-type {\n",
       "        vertical-align: middle;\n",
       "    }\n",
       "\n",
       "    .dataframe tbody tr th {\n",
       "        vertical-align: top;\n",
       "    }\n",
       "\n",
       "    .dataframe thead th {\n",
       "        text-align: right;\n",
       "    }\n",
       "</style>\n",
       "<table border=\"1\" class=\"dataframe\">\n",
       "  <thead>\n",
       "    <tr style=\"text-align: right;\">\n",
       "      <th></th>\n",
       "      <th>count</th>\n",
       "      <th>mean</th>\n",
       "      <th>std</th>\n",
       "      <th>min</th>\n",
       "      <th>25%</th>\n",
       "      <th>50%</th>\n",
       "      <th>75%</th>\n",
       "      <th>max</th>\n",
       "    </tr>\n",
       "  </thead>\n",
       "  <tbody>\n",
       "    <tr>\n",
       "      <th>age</th>\n",
       "      <td>442.0</td>\n",
       "      <td>-2.511817e-19</td>\n",
       "      <td>0.047619</td>\n",
       "      <td>-0.107226</td>\n",
       "      <td>-0.037299</td>\n",
       "      <td>0.005383</td>\n",
       "      <td>0.038076</td>\n",
       "      <td>0.110727</td>\n",
       "    </tr>\n",
       "    <tr>\n",
       "      <th>sex</th>\n",
       "      <td>442.0</td>\n",
       "      <td>1.230790e-17</td>\n",
       "      <td>0.047619</td>\n",
       "      <td>-0.044642</td>\n",
       "      <td>-0.044642</td>\n",
       "      <td>-0.044642</td>\n",
       "      <td>0.050680</td>\n",
       "      <td>0.050680</td>\n",
       "    </tr>\n",
       "    <tr>\n",
       "      <th>bmi</th>\n",
       "      <td>442.0</td>\n",
       "      <td>-2.245564e-16</td>\n",
       "      <td>0.047619</td>\n",
       "      <td>-0.090275</td>\n",
       "      <td>-0.034229</td>\n",
       "      <td>-0.007284</td>\n",
       "      <td>0.031248</td>\n",
       "      <td>0.170555</td>\n",
       "    </tr>\n",
       "    <tr>\n",
       "      <th>bp</th>\n",
       "      <td>442.0</td>\n",
       "      <td>-4.797570e-17</td>\n",
       "      <td>0.047619</td>\n",
       "      <td>-0.112399</td>\n",
       "      <td>-0.036656</td>\n",
       "      <td>-0.005670</td>\n",
       "      <td>0.035644</td>\n",
       "      <td>0.132044</td>\n",
       "    </tr>\n",
       "    <tr>\n",
       "      <th>s1</th>\n",
       "      <td>442.0</td>\n",
       "      <td>-1.381499e-17</td>\n",
       "      <td>0.047619</td>\n",
       "      <td>-0.126781</td>\n",
       "      <td>-0.034248</td>\n",
       "      <td>-0.004321</td>\n",
       "      <td>0.028358</td>\n",
       "      <td>0.153914</td>\n",
       "    </tr>\n",
       "    <tr>\n",
       "      <th>s2</th>\n",
       "      <td>442.0</td>\n",
       "      <td>3.918434e-17</td>\n",
       "      <td>0.047619</td>\n",
       "      <td>-0.115613</td>\n",
       "      <td>-0.030358</td>\n",
       "      <td>-0.003819</td>\n",
       "      <td>0.029844</td>\n",
       "      <td>0.198788</td>\n",
       "    </tr>\n",
       "    <tr>\n",
       "      <th>s3</th>\n",
       "      <td>442.0</td>\n",
       "      <td>-5.777179e-18</td>\n",
       "      <td>0.047619</td>\n",
       "      <td>-0.102307</td>\n",
       "      <td>-0.035117</td>\n",
       "      <td>-0.006584</td>\n",
       "      <td>0.029312</td>\n",
       "      <td>0.181179</td>\n",
       "    </tr>\n",
       "    <tr>\n",
       "      <th>s4</th>\n",
       "      <td>442.0</td>\n",
       "      <td>-9.042540e-18</td>\n",
       "      <td>0.047619</td>\n",
       "      <td>-0.076395</td>\n",
       "      <td>-0.039493</td>\n",
       "      <td>-0.002592</td>\n",
       "      <td>0.034309</td>\n",
       "      <td>0.185234</td>\n",
       "    </tr>\n",
       "    <tr>\n",
       "      <th>s5</th>\n",
       "      <td>442.0</td>\n",
       "      <td>9.293722e-17</td>\n",
       "      <td>0.047619</td>\n",
       "      <td>-0.126097</td>\n",
       "      <td>-0.033246</td>\n",
       "      <td>-0.001947</td>\n",
       "      <td>0.032432</td>\n",
       "      <td>0.133597</td>\n",
       "    </tr>\n",
       "    <tr>\n",
       "      <th>s6</th>\n",
       "      <td>442.0</td>\n",
       "      <td>1.130318e-17</td>\n",
       "      <td>0.047619</td>\n",
       "      <td>-0.137767</td>\n",
       "      <td>-0.033179</td>\n",
       "      <td>-0.001078</td>\n",
       "      <td>0.027917</td>\n",
       "      <td>0.135612</td>\n",
       "    </tr>\n",
       "    <tr>\n",
       "      <th>target</th>\n",
       "      <td>442.0</td>\n",
       "      <td>1.521335e+02</td>\n",
       "      <td>77.093005</td>\n",
       "      <td>25.000000</td>\n",
       "      <td>87.000000</td>\n",
       "      <td>140.500000</td>\n",
       "      <td>211.500000</td>\n",
       "      <td>346.000000</td>\n",
       "    </tr>\n",
       "  </tbody>\n",
       "</table>\n",
       "</div>"
      ],
      "text/plain": [
       "        count          mean        std        min        25%         50%  \\\n",
       "age     442.0 -2.511817e-19   0.047619  -0.107226  -0.037299    0.005383   \n",
       "sex     442.0  1.230790e-17   0.047619  -0.044642  -0.044642   -0.044642   \n",
       "bmi     442.0 -2.245564e-16   0.047619  -0.090275  -0.034229   -0.007284   \n",
       "bp      442.0 -4.797570e-17   0.047619  -0.112399  -0.036656   -0.005670   \n",
       "s1      442.0 -1.381499e-17   0.047619  -0.126781  -0.034248   -0.004321   \n",
       "s2      442.0  3.918434e-17   0.047619  -0.115613  -0.030358   -0.003819   \n",
       "s3      442.0 -5.777179e-18   0.047619  -0.102307  -0.035117   -0.006584   \n",
       "s4      442.0 -9.042540e-18   0.047619  -0.076395  -0.039493   -0.002592   \n",
       "s5      442.0  9.293722e-17   0.047619  -0.126097  -0.033246   -0.001947   \n",
       "s6      442.0  1.130318e-17   0.047619  -0.137767  -0.033179   -0.001078   \n",
       "target  442.0  1.521335e+02  77.093005  25.000000  87.000000  140.500000   \n",
       "\n",
       "               75%         max  \n",
       "age       0.038076    0.110727  \n",
       "sex       0.050680    0.050680  \n",
       "bmi       0.031248    0.170555  \n",
       "bp        0.035644    0.132044  \n",
       "s1        0.028358    0.153914  \n",
       "s2        0.029844    0.198788  \n",
       "s3        0.029312    0.181179  \n",
       "s4        0.034309    0.185234  \n",
       "s5        0.032432    0.133597  \n",
       "s6        0.027917    0.135612  \n",
       "target  211.500000  346.000000  "
      ]
     },
     "execution_count": 44,
     "metadata": {},
     "output_type": "execute_result"
    }
   ],
   "source": [
    "df.describe().T"
   ]
  },
  {
   "cell_type": "code",
   "execution_count": 45,
   "metadata": {},
   "outputs": [
    {
     "name": "stdout",
     "output_type": "stream",
     "text": [
      "<class 'pandas.core.frame.DataFrame'>\n",
      "RangeIndex: 442 entries, 0 to 441\n",
      "Data columns (total 11 columns):\n",
      " #   Column  Non-Null Count  Dtype  \n",
      "---  ------  --------------  -----  \n",
      " 0   age     442 non-null    float64\n",
      " 1   sex     442 non-null    float64\n",
      " 2   bmi     442 non-null    float64\n",
      " 3   bp      442 non-null    float64\n",
      " 4   s1      442 non-null    float64\n",
      " 5   s2      442 non-null    float64\n",
      " 6   s3      442 non-null    float64\n",
      " 7   s4      442 non-null    float64\n",
      " 8   s5      442 non-null    float64\n",
      " 9   s6      442 non-null    float64\n",
      " 10  target  442 non-null    float64\n",
      "dtypes: float64(11)\n",
      "memory usage: 38.1 KB\n"
     ]
    }
   ],
   "source": [
    "df.info()"
   ]
  },
  {
   "cell_type": "markdown",
   "metadata": {},
   "source": [
    "3. Подготовьте данные к обучению моделей: отделите целевой признак от датасета, разделите датасет на тренировочную и валидационную части.\n",
    "\n"
   ]
  },
  {
   "cell_type": "code",
   "execution_count": 46,
   "metadata": {},
   "outputs": [
    {
     "data": {
      "text/plain": [
       "target\n",
       "200.0    6\n",
       "72.0     6\n",
       "90.0     5\n",
       "178.0    5\n",
       "71.0     5\n",
       "        ..\n",
       "73.0     1\n",
       "222.0    1\n",
       "86.0     1\n",
       "79.0     1\n",
       "57.0     1\n",
       "Name: count, Length: 214, dtype: int64"
      ]
     },
     "execution_count": 46,
     "metadata": {},
     "output_type": "execute_result"
    }
   ],
   "source": [
    "df['target'].value_counts()"
   ]
  },
  {
   "cell_type": "code",
   "execution_count": 47,
   "metadata": {},
   "outputs": [],
   "source": [
    "features = df.drop(['target'], axis=1)\n",
    "target = df['target']\n"
   ]
  },
  {
   "cell_type": "code",
   "execution_count": 48,
   "metadata": {},
   "outputs": [],
   "source": [
    "features_train, features_val, target_train, target_val = train_test_split(features, target, test_size=0.2, random_state=17)"
   ]
  },
  {
   "cell_type": "markdown",
   "metadata": {},
   "source": [
    "4. Обучите решающее дерево и оцените адекватность обученной модели. Для этого достаточно сравнить метрики качества с метриками, получаемыми от простой модели. Например, если бы мы подавали на вход среднее значение целевой переменной на обучающей части выборки."
   ]
  },
  {
   "cell_type": "code",
   "execution_count": 49,
   "metadata": {},
   "outputs": [
    {
     "name": "stdout",
     "output_type": "stream",
     "text": [
      "Ошибок: 87\n",
      "nОбученная модель:\n",
      "MSE:  6003.9775280898875\n",
      "RMSE:  77.48533750387803\n",
      "R2:  -0.016722977032058273\n",
      "MAE:  61.59550561797753\n"
     ]
    }
   ],
   "source": [
    "model = tree.DecisionTreeRegressor()\n",
    "model.fit(features_train, target_train)\n",
    "y_pred = model.predict(features_val)\n",
    "\n",
    "def count_errors(true_answers, pred_answers):\n",
    "    all_answers_together = zip(true_answers, pred_answers)\n",
    "    errors_list = [1 if v[0] != v[1] else 0 for v in all_answers_together]\n",
    "    return sum(errors_list)\n",
    "\n",
    "print(\"Ошибок:\", count_errors(target_val, y_pred))\n",
    "\n",
    "mse = mean_squared_error(target_val, y_pred)\n",
    "rmse= np.sqrt(mse)\n",
    "r2 = r2_score(target_val, y_pred)\n",
    "mae = mean_absolute_error(target_val, y_pred)\n",
    "\n",
    "print(\"nОбученная модель:\")\n",
    "print(\"MSE: \", mse)\n",
    "print(\"RMSE: \", rmse)\n",
    "print(\"R2: \", r2)\n",
    "print(\"MAE: \", mae)"
   ]
  },
  {
   "cell_type": "markdown",
   "metadata": {},
   "source": [
    "Чтобы оценить адекватность модели, создаю простую модель со средним значением целевой переменной на входе."
   ]
  },
  {
   "cell_type": "code",
   "execution_count": 50,
   "metadata": {},
   "outputs": [],
   "source": [
    "target_avg_val = pd.Series([target.mean()] * len(target_val))"
   ]
  },
  {
   "cell_type": "code",
   "execution_count": 51,
   "metadata": {},
   "outputs": [
    {
     "name": "stdout",
     "output_type": "stream",
     "text": [
      "Ошибок: 89\n",
      "простая модель:\n",
      "MSE:  5928.798335587457\n",
      "RMSE:  76.9986904796923\n",
      "R2:  -0.0039920145901892745\n",
      "MAE:  67.71236463470436\n"
     ]
    }
   ],
   "source": [
    "print(\"Ошибок:\", count_errors(target_val, target_avg_val))\n",
    "\n",
    "mse_simple = mean_squared_error(target_val, target_avg_val)\n",
    "rmse_simple= np.sqrt(mse_simple)\n",
    "r2_simple = r2_score(target_val, target_avg_val)\n",
    "mae_simple = mean_absolute_error(target_val, target_avg_val)\n",
    "\n",
    "print(\"простая модель:\")\n",
    "print(\"MSE: \", mse_simple)\n",
    "print(\"RMSE: \", rmse_simple)\n",
    "print(\"R2: \", r2_simple)\n",
    "print(\"MAE: \", mae_simple)"
   ]
  },
  {
   "cell_type": "markdown",
   "metadata": {},
   "source": [
    "Вывод: \n",
    "\n",
    "Исходя из полученных результатов делаем вывод, что обученная модель адекватна."
   ]
  },
  {
   "cell_type": "markdown",
   "metadata": {},
   "source": [
    "5. Обучите линейную регрессию и оцените ее адекватность."
   ]
  },
  {
   "cell_type": "code",
   "execution_count": 52,
   "metadata": {},
   "outputs": [
    {
     "name": "stdout",
     "output_type": "stream",
     "text": [
      "Ошибок: 89\n",
      "nОбученная модель:\n",
      "MSE:  3231.41947978159\n",
      "RMSE:  56.84557572741778\n",
      "R2:  0.4527863540208549\n",
      "MAE:  45.89989611995773\n"
     ]
    }
   ],
   "source": [
    "model_regr = LinearRegression()\n",
    "model_regr.fit(features_train, target_train)\n",
    "y_pred_regr = model_regr.predict(features_val)\n",
    "\n",
    "print(\"Ошибок:\", count_errors(target_val, y_pred_regr))\n",
    "\n",
    "mse_regr = mean_squared_error(target_val, y_pred_regr)\n",
    "rmse_regr= np.sqrt(mse_regr)\n",
    "r2_regr = r2_score(target_val, y_pred_regr)\n",
    "mae_regr = mean_absolute_error(target_val, y_pred_regr)\n",
    "\n",
    "print(\"nОбученная модель:\")\n",
    "print(\"MSE: \", mse_regr)\n",
    "print(\"RMSE: \", rmse_regr)\n",
    "print(\"R2: \", r2_regr)\n",
    "print(\"MAE: \", mae_regr)"
   ]
  },
  {
   "cell_type": "markdown",
   "metadata": {},
   "source": [
    "оцениваем на адекватность"
   ]
  },
  {
   "cell_type": "code",
   "execution_count": 53,
   "metadata": {},
   "outputs": [
    {
     "name": "stdout",
     "output_type": "stream",
     "text": [
      "Ошибок: 89\n",
      "nОбученная модель:\n",
      "MSE:  5928.798335587457\n",
      "RMSE:  76.9986904796923\n",
      "R2:  -0.0039920145901892745\n",
      "MAE:  67.71236463470436\n"
     ]
    }
   ],
   "source": [
    "print(\"Ошибок:\", count_errors(target_val, target_avg_val))\n",
    "\n",
    "mse_regr_simple = mean_squared_error(target_val, target_avg_val)\n",
    "rmse_regr_simple= np.sqrt(mse_regr_simple)\n",
    "r2_regr_simple = r2_score(target_val, target_avg_val)\n",
    "mae_regr_simple = mean_absolute_error(target_val, target_avg_val)\n",
    "\n",
    "print(\"nОбученная модель:\")\n",
    "print(\"MSE: \", mse_regr_simple)\n",
    "print(\"RMSE: \", rmse_regr_simple)\n",
    "print(\"R2: \", r2_regr_simple)\n",
    "print(\"MAE: \", mae_regr_simple)"
   ]
  },
  {
   "cell_type": "markdown",
   "metadata": {},
   "source": [
    "Вывод:\n",
    "\n",
    "Исходя из полученных результатов делаем вывод, что модель адекватна."
   ]
  },
  {
   "cell_type": "markdown",
   "metadata": {},
   "source": [
    "6. Выберите лучшую модель и обоснуйте свой выбор.\n",
    "\n"
   ]
  },
  {
   "cell_type": "markdown",
   "metadata": {},
   "source": [
    "Показатели для решающего дерева:\n",
    "\n",
    "Ошибок: 87\n",
    "\n",
    "MSE:  6315.044943820225\n",
    "\n",
    "RMSE:  79.4672570548413\n",
    "\n",
    "R2:  -0.06939962138979205\n",
    "\n",
    "MAE:  62.97752808988764\n",
    "\n",
    "показатели для линейной регрессии:\n",
    "\n",
    "Ошибок: 89\n",
    "\n",
    "MSE:  3231.41947978159\n",
    "\n",
    "RMSE:  56.84557572741778\n",
    "\n",
    "R2:  0.4527863540208549\n",
    "\n",
    "MAE:  45.89989611995773\n",
    "\n",
    "Сравнив полученые метрики делаем вывод, что линейная регрессия лучше"
   ]
  }
 ],
 "metadata": {
  "kernelspec": {
   "display_name": "Python 3",
   "language": "python",
   "name": "python3"
  },
  "language_info": {
   "codemirror_mode": {
    "name": "ipython",
    "version": 3
   },
   "file_extension": ".py",
   "mimetype": "text/x-python",
   "name": "python",
   "nbconvert_exporter": "python",
   "pygments_lexer": "ipython3",
   "version": "3.12.3"
  },
  "toc": {
   "base_numbering": 1,
   "nav_menu": {},
   "number_sections": false,
   "sideBar": false,
   "skip_h1_title": false,
   "title_cell": "Table of Contents",
   "title_sidebar": "Contents",
   "toc_cell": false,
   "toc_position": {},
   "toc_section_display": false,
   "toc_window_display": false
  }
 },
 "nbformat": 4,
 "nbformat_minor": 4
}
