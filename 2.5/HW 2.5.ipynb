{
 "cells": [
  {
   "cell_type": "markdown",
   "metadata": {},
   "source": [
    "Задание\n",
    "Основные цели этого задания:\n",
    "\n",
    "Попрактиковаться в борьбе с дисбалансом классов\n",
    "\n",
    "Научиться заполнять пропуски в данных\n",
    "\n",
    "Научиться использовать категориальные признаки.\n",
    "\n",
    "Задача: по различным признакам, связанным с заявкой на грант, предсказать, будет ли заявка принята. \n",
    "\n",
    "План решения:\n",
    "\n",
    "1. Загрузите данные из csv файла. Ознакомьтесь с ними, проверьте наличие пропусков, узнайте типы признаков."
   ]
  },
  {
   "cell_type": "code",
   "execution_count": 221,
   "metadata": {},
   "outputs": [],
   "source": [
    "import pandas as pd\n",
    "from sklearn.linear_model import LogisticRegression, LogisticRegressionCV\n",
    "from sklearn.model_selection import train_test_split\n",
    "from sklearn.metrics import f1_score, precision_recall_curve, roc_curve, roc_auc_score\n",
    "from sklearn.utils import shuffle\n",
    "from sklearn.preprocessing import StandardScaler\n",
    "import seaborn as sns\n",
    "from imblearn.over_sampling import SMOTE\n",
    "from matplotlib import pyplot as plt\n",
    "import numpy as np\n",
    "from sklearn.preprocessing import LabelEncoder, OneHotEncoder\n",
    "from sklearn. model_selection import cross_val_score"
   ]
  },
  {
   "cell_type": "code",
   "execution_count": 222,
   "metadata": {},
   "outputs": [
    {
     "data": {
      "text/html": [
       "<div>\n",
       "<style scoped>\n",
       "    .dataframe tbody tr th:only-of-type {\n",
       "        vertical-align: middle;\n",
       "    }\n",
       "\n",
       "    .dataframe tbody tr th {\n",
       "        vertical-align: top;\n",
       "    }\n",
       "\n",
       "    .dataframe thead th {\n",
       "        text-align: right;\n",
       "    }\n",
       "</style>\n",
       "<table border=\"1\" class=\"dataframe\">\n",
       "  <thead>\n",
       "    <tr style=\"text-align: right;\">\n",
       "      <th></th>\n",
       "      <th>0</th>\n",
       "      <th>1</th>\n",
       "      <th>2</th>\n",
       "      <th>3</th>\n",
       "      <th>4</th>\n",
       "    </tr>\n",
       "  </thead>\n",
       "  <tbody>\n",
       "    <tr>\n",
       "      <th>Grant.Status</th>\n",
       "      <td>0</td>\n",
       "      <td>0</td>\n",
       "      <td>0</td>\n",
       "      <td>0</td>\n",
       "      <td>0</td>\n",
       "    </tr>\n",
       "    <tr>\n",
       "      <th>Sponsor.Code</th>\n",
       "      <td>97A</td>\n",
       "      <td>36D</td>\n",
       "      <td>317A</td>\n",
       "      <td>62B</td>\n",
       "      <td>1A</td>\n",
       "    </tr>\n",
       "    <tr>\n",
       "      <th>Grant.Category.Code</th>\n",
       "      <td>30B</td>\n",
       "      <td>10A</td>\n",
       "      <td>30D</td>\n",
       "      <td>10B</td>\n",
       "      <td>10A</td>\n",
       "    </tr>\n",
       "    <tr>\n",
       "      <th>Contract.Value.Band...see.note.A</th>\n",
       "      <td>A</td>\n",
       "      <td>G</td>\n",
       "      <td>NaN</td>\n",
       "      <td>B</td>\n",
       "      <td>NaN</td>\n",
       "    </tr>\n",
       "    <tr>\n",
       "      <th>RFCD.Code.1</th>\n",
       "      <td>321024.0</td>\n",
       "      <td>300201.0</td>\n",
       "      <td>321013.0</td>\n",
       "      <td>321103.0</td>\n",
       "      <td>270603.0</td>\n",
       "    </tr>\n",
       "    <tr>\n",
       "      <th>RFCD.Percentage.1</th>\n",
       "      <td>50.0</td>\n",
       "      <td>100.0</td>\n",
       "      <td>100.0</td>\n",
       "      <td>30.0</td>\n",
       "      <td>60.0</td>\n",
       "    </tr>\n",
       "    <tr>\n",
       "      <th>RFCD.Code.2</th>\n",
       "      <td>321013.0</td>\n",
       "      <td>0.0</td>\n",
       "      <td>0.0</td>\n",
       "      <td>321105.0</td>\n",
       "      <td>321205.0</td>\n",
       "    </tr>\n",
       "    <tr>\n",
       "      <th>RFCD.Percentage.2</th>\n",
       "      <td>30.0</td>\n",
       "      <td>0.0</td>\n",
       "      <td>0.0</td>\n",
       "      <td>40.0</td>\n",
       "      <td>30.0</td>\n",
       "    </tr>\n",
       "    <tr>\n",
       "      <th>RFCD.Code.3</th>\n",
       "      <td>291502.0</td>\n",
       "      <td>0.0</td>\n",
       "      <td>0.0</td>\n",
       "      <td>321204.0</td>\n",
       "      <td>320603.0</td>\n",
       "    </tr>\n",
       "    <tr>\n",
       "      <th>RFCD.Percentage.3</th>\n",
       "      <td>20.0</td>\n",
       "      <td>0.0</td>\n",
       "      <td>0.0</td>\n",
       "      <td>30.0</td>\n",
       "      <td>10.0</td>\n",
       "    </tr>\n",
       "    <tr>\n",
       "      <th>RFCD.Code.4</th>\n",
       "      <td>0.0</td>\n",
       "      <td>0.0</td>\n",
       "      <td>0.0</td>\n",
       "      <td>0.0</td>\n",
       "      <td>0.0</td>\n",
       "    </tr>\n",
       "    <tr>\n",
       "      <th>RFCD.Percentage.4</th>\n",
       "      <td>0.0</td>\n",
       "      <td>0.0</td>\n",
       "      <td>0.0</td>\n",
       "      <td>0.0</td>\n",
       "      <td>0.0</td>\n",
       "    </tr>\n",
       "    <tr>\n",
       "      <th>RFCD.Code.5</th>\n",
       "      <td>0.0</td>\n",
       "      <td>0.0</td>\n",
       "      <td>0.0</td>\n",
       "      <td>0.0</td>\n",
       "      <td>0.0</td>\n",
       "    </tr>\n",
       "    <tr>\n",
       "      <th>RFCD.Percentage.5</th>\n",
       "      <td>0.0</td>\n",
       "      <td>0.0</td>\n",
       "      <td>0.0</td>\n",
       "      <td>0.0</td>\n",
       "      <td>0.0</td>\n",
       "    </tr>\n",
       "    <tr>\n",
       "      <th>SEO.Code.1</th>\n",
       "      <td>730303.0</td>\n",
       "      <td>620108.0</td>\n",
       "      <td>730104.0</td>\n",
       "      <td>730211.0</td>\n",
       "      <td>730114.0</td>\n",
       "    </tr>\n",
       "    <tr>\n",
       "      <th>SEO.Percentage.1</th>\n",
       "      <td>50.0</td>\n",
       "      <td>100.0</td>\n",
       "      <td>100.0</td>\n",
       "      <td>50.0</td>\n",
       "      <td>60.0</td>\n",
       "    </tr>\n",
       "    <tr>\n",
       "      <th>SEO.Code.2</th>\n",
       "      <td>730104.0</td>\n",
       "      <td>0.0</td>\n",
       "      <td>0.0</td>\n",
       "      <td>730302.0</td>\n",
       "      <td>730204.0</td>\n",
       "    </tr>\n",
       "    <tr>\n",
       "      <th>SEO.Percentage.2</th>\n",
       "      <td>30.0</td>\n",
       "      <td>0.0</td>\n",
       "      <td>0.0</td>\n",
       "      <td>50.0</td>\n",
       "      <td>10.0</td>\n",
       "    </tr>\n",
       "    <tr>\n",
       "      <th>SEO.Code.3</th>\n",
       "      <td>671402.0</td>\n",
       "      <td>0.0</td>\n",
       "      <td>0.0</td>\n",
       "      <td>0.0</td>\n",
       "      <td>730215.0</td>\n",
       "    </tr>\n",
       "    <tr>\n",
       "      <th>SEO.Percentage.3</th>\n",
       "      <td>20.0</td>\n",
       "      <td>0.0</td>\n",
       "      <td>0.0</td>\n",
       "      <td>0.0</td>\n",
       "      <td>30.0</td>\n",
       "    </tr>\n",
       "    <tr>\n",
       "      <th>SEO.Code.4</th>\n",
       "      <td>0.0</td>\n",
       "      <td>0.0</td>\n",
       "      <td>0.0</td>\n",
       "      <td>0.0</td>\n",
       "      <td>0.0</td>\n",
       "    </tr>\n",
       "    <tr>\n",
       "      <th>SEO.Percentage.4</th>\n",
       "      <td>0.0</td>\n",
       "      <td>0.0</td>\n",
       "      <td>0.0</td>\n",
       "      <td>0.0</td>\n",
       "      <td>0.0</td>\n",
       "    </tr>\n",
       "    <tr>\n",
       "      <th>SEO.Code.5</th>\n",
       "      <td>0.0</td>\n",
       "      <td>0.0</td>\n",
       "      <td>0.0</td>\n",
       "      <td>0.0</td>\n",
       "      <td>0.0</td>\n",
       "    </tr>\n",
       "    <tr>\n",
       "      <th>SEO.Percentage.5</th>\n",
       "      <td>0.0</td>\n",
       "      <td>0.0</td>\n",
       "      <td>0.0</td>\n",
       "      <td>0.0</td>\n",
       "      <td>0.0</td>\n",
       "    </tr>\n",
       "    <tr>\n",
       "      <th>Person.ID.1</th>\n",
       "      <td>67037.0</td>\n",
       "      <td>12917.0</td>\n",
       "      <td>28607.0</td>\n",
       "      <td>144632.0</td>\n",
       "      <td>1797.0</td>\n",
       "    </tr>\n",
       "    <tr>\n",
       "      <th>Role.1</th>\n",
       "      <td>CHIEF_INVESTIGATOR</td>\n",
       "      <td>PRINCIPAL_SUPERVISOR</td>\n",
       "      <td>CHIEF_INVESTIGATOR</td>\n",
       "      <td>CHIEF_INVESTIGATOR</td>\n",
       "      <td>CHIEF_INVESTIGATOR</td>\n",
       "    </tr>\n",
       "    <tr>\n",
       "      <th>Year.of.Birth.1</th>\n",
       "      <td>1950.0</td>\n",
       "      <td>1955.0</td>\n",
       "      <td>1965.0</td>\n",
       "      <td>1960.0</td>\n",
       "      <td>1960.0</td>\n",
       "    </tr>\n",
       "    <tr>\n",
       "      <th>Country.of.Birth.1</th>\n",
       "      <td>Eastern Europe</td>\n",
       "      <td>Australia</td>\n",
       "      <td>Great Britain</td>\n",
       "      <td>Australia</td>\n",
       "      <td>North America</td>\n",
       "    </tr>\n",
       "    <tr>\n",
       "      <th>Home.Language.1</th>\n",
       "      <td>NaN</td>\n",
       "      <td>NaN</td>\n",
       "      <td>NaN</td>\n",
       "      <td>NaN</td>\n",
       "      <td>NaN</td>\n",
       "    </tr>\n",
       "    <tr>\n",
       "      <th>Dept.No..1</th>\n",
       "      <td>2563.0</td>\n",
       "      <td>1038.0</td>\n",
       "      <td>2763.0</td>\n",
       "      <td>2848.0</td>\n",
       "      <td>2678.0</td>\n",
       "    </tr>\n",
       "    <tr>\n",
       "      <th>Faculty.No..1</th>\n",
       "      <td>25.0</td>\n",
       "      <td>1.0</td>\n",
       "      <td>25.0</td>\n",
       "      <td>25.0</td>\n",
       "      <td>25.0</td>\n",
       "    </tr>\n",
       "    <tr>\n",
       "      <th>With.PHD.1</th>\n",
       "      <td>Yes</td>\n",
       "      <td>NaN</td>\n",
       "      <td>Yes</td>\n",
       "      <td>NaN</td>\n",
       "      <td>Yes</td>\n",
       "    </tr>\n",
       "    <tr>\n",
       "      <th>No..of.Years.in.Uni.at.Time.of.Grant.1</th>\n",
       "      <td>&gt;10 to 15</td>\n",
       "      <td>Less than 0</td>\n",
       "      <td>&gt;5 to 10</td>\n",
       "      <td>Less than 0</td>\n",
       "      <td>&gt;5 to 10</td>\n",
       "    </tr>\n",
       "    <tr>\n",
       "      <th>Number.of.Successful.Grant.1</th>\n",
       "      <td>2.0</td>\n",
       "      <td>0.0</td>\n",
       "      <td>4.0</td>\n",
       "      <td>1.0</td>\n",
       "      <td>5.0</td>\n",
       "    </tr>\n",
       "    <tr>\n",
       "      <th>Number.of.Unsuccessful.Grant.1</th>\n",
       "      <td>6.0</td>\n",
       "      <td>3.0</td>\n",
       "      <td>3.0</td>\n",
       "      <td>2.0</td>\n",
       "      <td>14.0</td>\n",
       "    </tr>\n",
       "    <tr>\n",
       "      <th>A..1</th>\n",
       "      <td>3.0</td>\n",
       "      <td>0.0</td>\n",
       "      <td>6.0</td>\n",
       "      <td>1.0</td>\n",
       "      <td>0.0</td>\n",
       "    </tr>\n",
       "    <tr>\n",
       "      <th>A.1</th>\n",
       "      <td>5.0</td>\n",
       "      <td>4.0</td>\n",
       "      <td>25.0</td>\n",
       "      <td>0.0</td>\n",
       "      <td>9.0</td>\n",
       "    </tr>\n",
       "    <tr>\n",
       "      <th>B.1</th>\n",
       "      <td>15.0</td>\n",
       "      <td>0.0</td>\n",
       "      <td>14.0</td>\n",
       "      <td>0.0</td>\n",
       "      <td>7.0</td>\n",
       "    </tr>\n",
       "    <tr>\n",
       "      <th>C.1</th>\n",
       "      <td>3.0</td>\n",
       "      <td>0.0</td>\n",
       "      <td>14.0</td>\n",
       "      <td>0.0</td>\n",
       "      <td>0.0</td>\n",
       "    </tr>\n",
       "  </tbody>\n",
       "</table>\n",
       "</div>"
      ],
      "text/plain": [
       "                                                         0  \\\n",
       "Grant.Status                                             0   \n",
       "Sponsor.Code                                           97A   \n",
       "Grant.Category.Code                                    30B   \n",
       "Contract.Value.Band...see.note.A                        A    \n",
       "RFCD.Code.1                                       321024.0   \n",
       "RFCD.Percentage.1                                     50.0   \n",
       "RFCD.Code.2                                       321013.0   \n",
       "RFCD.Percentage.2                                     30.0   \n",
       "RFCD.Code.3                                       291502.0   \n",
       "RFCD.Percentage.3                                     20.0   \n",
       "RFCD.Code.4                                            0.0   \n",
       "RFCD.Percentage.4                                      0.0   \n",
       "RFCD.Code.5                                            0.0   \n",
       "RFCD.Percentage.5                                      0.0   \n",
       "SEO.Code.1                                        730303.0   \n",
       "SEO.Percentage.1                                      50.0   \n",
       "SEO.Code.2                                        730104.0   \n",
       "SEO.Percentage.2                                      30.0   \n",
       "SEO.Code.3                                        671402.0   \n",
       "SEO.Percentage.3                                      20.0   \n",
       "SEO.Code.4                                             0.0   \n",
       "SEO.Percentage.4                                       0.0   \n",
       "SEO.Code.5                                             0.0   \n",
       "SEO.Percentage.5                                       0.0   \n",
       "Person.ID.1                                        67037.0   \n",
       "Role.1                                  CHIEF_INVESTIGATOR   \n",
       "Year.of.Birth.1                                     1950.0   \n",
       "Country.of.Birth.1                          Eastern Europe   \n",
       "Home.Language.1                                        NaN   \n",
       "Dept.No..1                                          2563.0   \n",
       "Faculty.No..1                                         25.0   \n",
       "With.PHD.1                                            Yes    \n",
       "No..of.Years.in.Uni.at.Time.of.Grant.1           >10 to 15   \n",
       "Number.of.Successful.Grant.1                           2.0   \n",
       "Number.of.Unsuccessful.Grant.1                         6.0   \n",
       "A..1                                                   3.0   \n",
       "A.1                                                    5.0   \n",
       "B.1                                                   15.0   \n",
       "C.1                                                    3.0   \n",
       "\n",
       "                                                           1  \\\n",
       "Grant.Status                                               0   \n",
       "Sponsor.Code                                             36D   \n",
       "Grant.Category.Code                                      10A   \n",
       "Contract.Value.Band...see.note.A                          G    \n",
       "RFCD.Code.1                                         300201.0   \n",
       "RFCD.Percentage.1                                      100.0   \n",
       "RFCD.Code.2                                              0.0   \n",
       "RFCD.Percentage.2                                        0.0   \n",
       "RFCD.Code.3                                              0.0   \n",
       "RFCD.Percentage.3                                        0.0   \n",
       "RFCD.Code.4                                              0.0   \n",
       "RFCD.Percentage.4                                        0.0   \n",
       "RFCD.Code.5                                              0.0   \n",
       "RFCD.Percentage.5                                        0.0   \n",
       "SEO.Code.1                                          620108.0   \n",
       "SEO.Percentage.1                                       100.0   \n",
       "SEO.Code.2                                               0.0   \n",
       "SEO.Percentage.2                                         0.0   \n",
       "SEO.Code.3                                               0.0   \n",
       "SEO.Percentage.3                                         0.0   \n",
       "SEO.Code.4                                               0.0   \n",
       "SEO.Percentage.4                                         0.0   \n",
       "SEO.Code.5                                               0.0   \n",
       "SEO.Percentage.5                                         0.0   \n",
       "Person.ID.1                                          12917.0   \n",
       "Role.1                                  PRINCIPAL_SUPERVISOR   \n",
       "Year.of.Birth.1                                       1955.0   \n",
       "Country.of.Birth.1                                 Australia   \n",
       "Home.Language.1                                          NaN   \n",
       "Dept.No..1                                            1038.0   \n",
       "Faculty.No..1                                            1.0   \n",
       "With.PHD.1                                               NaN   \n",
       "No..of.Years.in.Uni.at.Time.of.Grant.1           Less than 0   \n",
       "Number.of.Successful.Grant.1                             0.0   \n",
       "Number.of.Unsuccessful.Grant.1                           3.0   \n",
       "A..1                                                     0.0   \n",
       "A.1                                                      4.0   \n",
       "B.1                                                      0.0   \n",
       "C.1                                                      0.0   \n",
       "\n",
       "                                                         2  \\\n",
       "Grant.Status                                             0   \n",
       "Sponsor.Code                                          317A   \n",
       "Grant.Category.Code                                    30D   \n",
       "Contract.Value.Band...see.note.A                       NaN   \n",
       "RFCD.Code.1                                       321013.0   \n",
       "RFCD.Percentage.1                                    100.0   \n",
       "RFCD.Code.2                                            0.0   \n",
       "RFCD.Percentage.2                                      0.0   \n",
       "RFCD.Code.3                                            0.0   \n",
       "RFCD.Percentage.3                                      0.0   \n",
       "RFCD.Code.4                                            0.0   \n",
       "RFCD.Percentage.4                                      0.0   \n",
       "RFCD.Code.5                                            0.0   \n",
       "RFCD.Percentage.5                                      0.0   \n",
       "SEO.Code.1                                        730104.0   \n",
       "SEO.Percentage.1                                     100.0   \n",
       "SEO.Code.2                                             0.0   \n",
       "SEO.Percentage.2                                       0.0   \n",
       "SEO.Code.3                                             0.0   \n",
       "SEO.Percentage.3                                       0.0   \n",
       "SEO.Code.4                                             0.0   \n",
       "SEO.Percentage.4                                       0.0   \n",
       "SEO.Code.5                                             0.0   \n",
       "SEO.Percentage.5                                       0.0   \n",
       "Person.ID.1                                        28607.0   \n",
       "Role.1                                  CHIEF_INVESTIGATOR   \n",
       "Year.of.Birth.1                                     1965.0   \n",
       "Country.of.Birth.1                           Great Britain   \n",
       "Home.Language.1                                        NaN   \n",
       "Dept.No..1                                          2763.0   \n",
       "Faculty.No..1                                         25.0   \n",
       "With.PHD.1                                            Yes    \n",
       "No..of.Years.in.Uni.at.Time.of.Grant.1            >5 to 10   \n",
       "Number.of.Successful.Grant.1                           4.0   \n",
       "Number.of.Unsuccessful.Grant.1                         3.0   \n",
       "A..1                                                   6.0   \n",
       "A.1                                                   25.0   \n",
       "B.1                                                   14.0   \n",
       "C.1                                                   14.0   \n",
       "\n",
       "                                                         3                   4  \n",
       "Grant.Status                                             0                   0  \n",
       "Sponsor.Code                                           62B                  1A  \n",
       "Grant.Category.Code                                    10B                 10A  \n",
       "Contract.Value.Band...see.note.A                        B                  NaN  \n",
       "RFCD.Code.1                                       321103.0            270603.0  \n",
       "RFCD.Percentage.1                                     30.0                60.0  \n",
       "RFCD.Code.2                                       321105.0            321205.0  \n",
       "RFCD.Percentage.2                                     40.0                30.0  \n",
       "RFCD.Code.3                                       321204.0            320603.0  \n",
       "RFCD.Percentage.3                                     30.0                10.0  \n",
       "RFCD.Code.4                                            0.0                 0.0  \n",
       "RFCD.Percentage.4                                      0.0                 0.0  \n",
       "RFCD.Code.5                                            0.0                 0.0  \n",
       "RFCD.Percentage.5                                      0.0                 0.0  \n",
       "SEO.Code.1                                        730211.0            730114.0  \n",
       "SEO.Percentage.1                                      50.0                60.0  \n",
       "SEO.Code.2                                        730302.0            730204.0  \n",
       "SEO.Percentage.2                                      50.0                10.0  \n",
       "SEO.Code.3                                             0.0            730215.0  \n",
       "SEO.Percentage.3                                       0.0                30.0  \n",
       "SEO.Code.4                                             0.0                 0.0  \n",
       "SEO.Percentage.4                                       0.0                 0.0  \n",
       "SEO.Code.5                                             0.0                 0.0  \n",
       "SEO.Percentage.5                                       0.0                 0.0  \n",
       "Person.ID.1                                       144632.0              1797.0  \n",
       "Role.1                                  CHIEF_INVESTIGATOR  CHIEF_INVESTIGATOR  \n",
       "Year.of.Birth.1                                     1960.0              1960.0  \n",
       "Country.of.Birth.1                               Australia       North America  \n",
       "Home.Language.1                                        NaN                 NaN  \n",
       "Dept.No..1                                          2848.0              2678.0  \n",
       "Faculty.No..1                                         25.0                25.0  \n",
       "With.PHD.1                                             NaN                Yes   \n",
       "No..of.Years.in.Uni.at.Time.of.Grant.1         Less than 0            >5 to 10  \n",
       "Number.of.Successful.Grant.1                           1.0                 5.0  \n",
       "Number.of.Unsuccessful.Grant.1                         2.0                14.0  \n",
       "A..1                                                   1.0                 0.0  \n",
       "A.1                                                    0.0                 9.0  \n",
       "B.1                                                    0.0                 7.0  \n",
       "C.1                                                    0.0                 0.0  "
      ]
     },
     "execution_count": 222,
     "metadata": {},
     "output_type": "execute_result"
    }
   ],
   "source": [
    "df = pd.read_csv('grant_data_imb.csv')\n",
    "df.head().T"
   ]
  },
  {
   "cell_type": "markdown",
   "metadata": {},
   "source": [
    "1.1 Ознакомьтесь с ними, проверьте наличие пропусков, узнайте типы признаков."
   ]
  },
  {
   "cell_type": "code",
   "execution_count": 223,
   "metadata": {},
   "outputs": [
    {
     "name": "stdout",
     "output_type": "stream",
     "text": [
      "<class 'pandas.core.frame.DataFrame'>\n",
      "RangeIndex: 4113 entries, 0 to 4112\n",
      "Data columns (total 39 columns):\n",
      " #   Column                                  Non-Null Count  Dtype  \n",
      "---  ------                                  --------------  -----  \n",
      " 0   Grant.Status                            4113 non-null   int64  \n",
      " 1   Sponsor.Code                            3856 non-null   object \n",
      " 2   Grant.Category.Code                     3856 non-null   object \n",
      " 3   Contract.Value.Band...see.note.A        1953 non-null   object \n",
      " 4   RFCD.Code.1                             3853 non-null   float64\n",
      " 5   RFCD.Percentage.1                       3853 non-null   float64\n",
      " 6   RFCD.Code.2                             3853 non-null   float64\n",
      " 7   RFCD.Percentage.2                       3853 non-null   float64\n",
      " 8   RFCD.Code.3                             3853 non-null   float64\n",
      " 9   RFCD.Percentage.3                       3853 non-null   float64\n",
      " 10  RFCD.Code.4                             3853 non-null   float64\n",
      " 11  RFCD.Percentage.4                       3853 non-null   float64\n",
      " 12  RFCD.Code.5                             3853 non-null   float64\n",
      " 13  RFCD.Percentage.5                       3853 non-null   float64\n",
      " 14  SEO.Code.1                              3837 non-null   float64\n",
      " 15  SEO.Percentage.1                        3837 non-null   float64\n",
      " 16  SEO.Code.2                              3837 non-null   float64\n",
      " 17  SEO.Percentage.2                        3837 non-null   float64\n",
      " 18  SEO.Code.3                              3837 non-null   float64\n",
      " 19  SEO.Percentage.3                        3837 non-null   float64\n",
      " 20  SEO.Code.4                              3837 non-null   float64\n",
      " 21  SEO.Percentage.4                        3837 non-null   float64\n",
      " 22  SEO.Code.5                              3837 non-null   float64\n",
      " 23  SEO.Percentage.5                        3837 non-null   float64\n",
      " 24  Person.ID.1                             3826 non-null   float64\n",
      " 25  Role.1                                  4067 non-null   object \n",
      " 26  Year.of.Birth.1                         3825 non-null   float64\n",
      " 27  Country.of.Birth.1                      3447 non-null   object \n",
      " 28  Home.Language.1                         394 non-null    object \n",
      " 29  Dept.No..1                              3665 non-null   float64\n",
      " 30  Faculty.No..1                           3664 non-null   float64\n",
      " 31  With.PHD.1                              2332 non-null   object \n",
      " 32  No..of.Years.in.Uni.at.Time.of.Grant.1  3354 non-null   object \n",
      " 33  Number.of.Successful.Grant.1            3826 non-null   float64\n",
      " 34  Number.of.Unsuccessful.Grant.1          3826 non-null   float64\n",
      " 35  A..1                                    3826 non-null   float64\n",
      " 36  A.1                                     3826 non-null   float64\n",
      " 37  B.1                                     3826 non-null   float64\n",
      " 38  C.1                                     3826 non-null   float64\n",
      "dtypes: float64(30), int64(1), object(8)\n",
      "memory usage: 1.2+ MB\n"
     ]
    }
   ],
   "source": [
    "df.info()"
   ]
  },
  {
   "cell_type": "code",
   "execution_count": 224,
   "metadata": {},
   "outputs": [
    {
     "data": {
      "text/plain": [
       "array(['97A', '36D', '317A', '62B', '1A', '4D', '2B', '60D', '21A',\n",
       "       '149A', '252D', '65A', '40D', '24D', '34B', '166B', '6B', '29A',\n",
       "       '5A', '141A', nan, '32D', '89A', '52D', '18B', '33A', '91C', '12D',\n",
       "       '20D', '66B', '145A', '179C', '86B', '42B', '183C', '112D', '234B',\n",
       "       '49A', '437A', '77A', '83C', '93A', '229A', '84D', '196D', '281A',\n",
       "       '69A', '161A', '51C', '226B', '269A', '188D', '94B', '173A',\n",
       "       '221A', '9A', '126B', '133A', '101A', '215C', '172D', '138B',\n",
       "       '219C', '59C', '315C', '205A', '247C', '194B', '15C', '3C', '55C',\n",
       "       '204D', '90B', '163C', '307C', '206B', '95C', '7C', '180D', '214B',\n",
       "       '197A', '349A', '232D', '325A', '266B', '164D', '63C', '228D',\n",
       "       '187C', '208D', '241A', '48D', '309A', '73A', '28D', '362B', '39C',\n",
       "       '67C', '212D', '200D', '148D', '154B', '245A', '311C', '105A',\n",
       "       '47C', '222B', '137A', '159C', '100D', '143C', '193A', '324D',\n",
       "       '38B', '75C', '427C', '103C', '415C', '139C', '107C', '136D',\n",
       "       '11C', '170B', '135C', '203C', '235C', '331C', '259C', '87C',\n",
       "       '169A', '284D', '198B', '308D', '242B', '174B', '68D', '120D',\n",
       "       '347C', '294B', '128D', '56D', '202B', '435C', '80D', '130B',\n",
       "       '54B', '195C', '285A', '191C', '260D', '78B', '146B', '113A',\n",
       "       '158B', '223C', '132D', '13A', '160D', '279C', '282B', '265A',\n",
       "       '256D', '244D', '26B', '310B', '111C', '150B', '273A', '250B',\n",
       "       '23C', '230B', '258B', '295C', '27C', '53A', '147C', '210B',\n",
       "       '227C', '433A', '178B', '305A', '346B', '267C', '318B', '238B',\n",
       "       '37A', '342B', '289A', '144D', '58B', '153A', '85A', '82B', '176D',\n",
       "       '165A', '201A', '277A', '370B', '168D', '156D', '357A', '216D',\n",
       "       '434B', '16D', '328D', '151C', '157A', '255C', '299C', '270B',\n",
       "       '262B', '274B', '14B', '330B', '429A', '184D', '177A', '257A',\n",
       "       '286B', '74B', '326B', '72D', '199C', '313A', '373A', '298B',\n",
       "       '225A'], dtype=object)"
      ]
     },
     "execution_count": 224,
     "metadata": {},
     "output_type": "execute_result"
    }
   ],
   "source": [
    "df['Sponsor.Code'].unique()"
   ]
  },
  {
   "cell_type": "markdown",
   "metadata": {},
   "source": [
    "2. Подготовьте данные к обучению моделей:\n",
    "\n",
    "Отделите целевую переменную Grant.Status;\n",
    "\n",
    "Заполните пропуски\n",
    "\n",
    "в количественных признаках заполните пропуски средними значениями и нулями (у каждой фичи будет по два варианта),\n",
    "\n",
    "в категориальных признаках выведите значения, которые они принимают, и найдите признак, где пропуски можно заполнить осмысленным значением. В остальных признаках заполните пропуски значением по умолчанию;\n",
    "\n",
    "Преобразуйте категориальные признаки в количественные с помощью прямого кодирования;\n",
    "\n",
    "Разделите данные на обучающую и тестовую части;\n",
    "\n",
    "Используйте масштабирование для получения признаков одинакового масштаба."
   ]
  },
  {
   "cell_type": "code",
   "execution_count": 230,
   "metadata": {},
   "outputs": [
    {
     "name": "stdout",
     "output_type": "stream",
     "text": [
      "Столбцы в DataFrame перед dropna: ['Grant.Status', 'RFCD.Code.1', 'RFCD.Percentage.1', 'RFCD.Code.2', 'RFCD.Percentage.2', 'RFCD.Code.3', 'RFCD.Percentage.3', 'RFCD.Code.4', 'RFCD.Percentage.4', 'RFCD.Code.5', 'RFCD.Percentage.5', 'SEO.Code.1', 'SEO.Percentage.1', 'SEO.Code.2', 'SEO.Percentage.2', 'SEO.Code.3', 'SEO.Percentage.3', 'SEO.Code.4', 'SEO.Percentage.4', 'SEO.Code.5', 'SEO.Percentage.5', 'Person.ID.1', 'Year.of.Birth.1', 'Dept.No..1', 'Faculty.No..1', 'Number.of.Successful.Grant.1', 'Number.of.Unsuccessful.Grant.1', 'A..1', 'A.1', 'B.1', 'C.1', 'Sponsor.Code_101A', 'Sponsor.Code_103C', 'Sponsor.Code_105A', 'Sponsor.Code_107C', 'Sponsor.Code_111C', 'Sponsor.Code_112D', 'Sponsor.Code_113A', 'Sponsor.Code_11C', 'Sponsor.Code_120D', 'Sponsor.Code_126B', 'Sponsor.Code_128D', 'Sponsor.Code_12D', 'Sponsor.Code_130B', 'Sponsor.Code_132D', 'Sponsor.Code_133A', 'Sponsor.Code_135C', 'Sponsor.Code_136D', 'Sponsor.Code_137A', 'Sponsor.Code_138B', 'Sponsor.Code_139C', 'Sponsor.Code_13A', 'Sponsor.Code_141A', 'Sponsor.Code_143C', 'Sponsor.Code_144D', 'Sponsor.Code_146B', 'Sponsor.Code_148D', 'Sponsor.Code_149A', 'Sponsor.Code_150B', 'Sponsor.Code_154B', 'Sponsor.Code_156D', 'Sponsor.Code_159C', 'Sponsor.Code_15C', 'Sponsor.Code_161A', 'Sponsor.Code_163C', 'Sponsor.Code_164D', 'Sponsor.Code_165A', 'Sponsor.Code_166B', 'Sponsor.Code_169A', 'Sponsor.Code_16D', 'Sponsor.Code_170B', 'Sponsor.Code_172D', 'Sponsor.Code_173A', 'Sponsor.Code_174B', 'Sponsor.Code_179C', 'Sponsor.Code_180D', 'Sponsor.Code_183C', 'Sponsor.Code_187C', 'Sponsor.Code_188D', 'Sponsor.Code_18B', 'Sponsor.Code_191C', 'Sponsor.Code_193A', 'Sponsor.Code_194B', 'Sponsor.Code_195C', 'Sponsor.Code_196D', 'Sponsor.Code_197A', 'Sponsor.Code_198B', 'Sponsor.Code_199C', 'Sponsor.Code_1A', 'Sponsor.Code_200D', 'Sponsor.Code_201A', 'Sponsor.Code_202B', 'Sponsor.Code_203C', 'Sponsor.Code_204D', 'Sponsor.Code_205A', 'Sponsor.Code_208D', 'Sponsor.Code_20D', 'Sponsor.Code_210B', 'Sponsor.Code_212D', 'Sponsor.Code_214B', 'Sponsor.Code_215C', 'Sponsor.Code_216D', 'Sponsor.Code_219C', 'Sponsor.Code_21A', 'Sponsor.Code_221A', 'Sponsor.Code_222B', 'Sponsor.Code_223C', 'Sponsor.Code_225A', 'Sponsor.Code_226B', 'Sponsor.Code_227C', 'Sponsor.Code_228D', 'Sponsor.Code_229A', 'Sponsor.Code_232D', 'Sponsor.Code_234B', 'Sponsor.Code_235C', 'Sponsor.Code_238B', 'Sponsor.Code_23C', 'Sponsor.Code_241A', 'Sponsor.Code_242B', 'Sponsor.Code_244D', 'Sponsor.Code_245A', 'Sponsor.Code_24D', 'Sponsor.Code_250B', 'Sponsor.Code_252D', 'Sponsor.Code_255C', 'Sponsor.Code_256D', 'Sponsor.Code_257A', 'Sponsor.Code_258B', 'Sponsor.Code_259C', 'Sponsor.Code_260D', 'Sponsor.Code_262B', 'Sponsor.Code_265A', 'Sponsor.Code_266B', 'Sponsor.Code_267C', 'Sponsor.Code_269A', 'Sponsor.Code_26B', 'Sponsor.Code_270B', 'Sponsor.Code_273A', 'Sponsor.Code_274B', 'Sponsor.Code_279C', 'Sponsor.Code_27C', 'Sponsor.Code_281A', 'Sponsor.Code_282B', 'Sponsor.Code_285A', 'Sponsor.Code_286B', 'Sponsor.Code_289A', 'Sponsor.Code_28D', 'Sponsor.Code_294B', 'Sponsor.Code_295C', 'Sponsor.Code_298B', 'Sponsor.Code_299C', 'Sponsor.Code_29A', 'Sponsor.Code_2B', 'Sponsor.Code_305A', 'Sponsor.Code_307C', 'Sponsor.Code_309A', 'Sponsor.Code_310B', 'Sponsor.Code_311C', 'Sponsor.Code_313A', 'Sponsor.Code_315C', 'Sponsor.Code_318B', 'Sponsor.Code_324D', 'Sponsor.Code_325A', 'Sponsor.Code_328D', 'Sponsor.Code_32D', 'Sponsor.Code_330B', 'Sponsor.Code_33A', 'Sponsor.Code_346B', 'Sponsor.Code_347C', 'Sponsor.Code_349A', 'Sponsor.Code_34B', 'Sponsor.Code_36D', 'Sponsor.Code_370B', 'Sponsor.Code_373A', 'Sponsor.Code_3C', 'Sponsor.Code_40D', 'Sponsor.Code_42B', 'Sponsor.Code_433A', 'Sponsor.Code_437A', 'Sponsor.Code_47C', 'Sponsor.Code_48D', 'Sponsor.Code_49A', 'Sponsor.Code_4D', 'Sponsor.Code_51C', 'Sponsor.Code_52D', 'Sponsor.Code_53A', 'Sponsor.Code_54B', 'Sponsor.Code_55C', 'Sponsor.Code_56D', 'Sponsor.Code_58B', 'Sponsor.Code_59C', 'Sponsor.Code_5A', 'Sponsor.Code_60D', 'Sponsor.Code_62B', 'Sponsor.Code_63C', 'Sponsor.Code_65A', 'Sponsor.Code_66B', 'Sponsor.Code_67C', 'Sponsor.Code_68D', 'Sponsor.Code_69A', 'Sponsor.Code_6B', 'Sponsor.Code_73A', 'Sponsor.Code_75C', 'Sponsor.Code_77A', 'Sponsor.Code_78B', 'Sponsor.Code_7C', 'Sponsor.Code_80D', 'Sponsor.Code_82B', 'Sponsor.Code_83C', 'Sponsor.Code_84D', 'Sponsor.Code_85A', 'Sponsor.Code_86B', 'Sponsor.Code_87C', 'Sponsor.Code_89A', 'Sponsor.Code_90B', 'Sponsor.Code_94B', 'Sponsor.Code_95C', 'Sponsor.Code_97A', 'Sponsor.Code_9A', 'Grant.Category.Code_10B', 'Grant.Category.Code_20A', 'Grant.Category.Code_20C', 'Grant.Category.Code_30A', 'Grant.Category.Code_30B', 'Grant.Category.Code_30C', 'Grant.Category.Code_30D', 'Grant.Category.Code_30E', 'Grant.Category.Code_30F', 'Grant.Category.Code_30G', 'Grant.Category.Code_40C', 'Grant.Category.Code_50A', 'Contract.Value.Band...see.note.A_B ', 'Contract.Value.Band...see.note.A_C ', 'Contract.Value.Band...see.note.A_D ', 'Contract.Value.Band...see.note.A_E ', 'Contract.Value.Band...see.note.A_F ', 'Contract.Value.Band...see.note.A_G ', 'Contract.Value.Band...see.note.A_H ', 'Contract.Value.Band...see.note.A_I ', 'Contract.Value.Band...see.note.A_J ', 'Contract.Value.Band...see.note.A_K ', 'Contract.Value.Band...see.note.A_M ', 'Contract.Value.Band...see.note.A_P ', 'Role.1_DELEGATED_RESEARCHER', 'Role.1_EXT_CHIEF_INVESTIGATOR', 'Role.1_HONVISIT', 'Role.1_PRINCIPAL_SUPERVISOR', 'Role.1_STUD_CHIEF_INVESTIGATOR', 'Country.of.Birth.1_Australia', 'Country.of.Birth.1_Eastern Europe', 'Country.of.Birth.1_Great Britain', 'Country.of.Birth.1_Middle East and Africa', 'Country.of.Birth.1_New Zealand', 'Country.of.Birth.1_North America', 'Country.of.Birth.1_South Africa', 'Country.of.Birth.1_The Americas', 'Country.of.Birth.1_Western Europe', 'Home.Language.1_Other', 'No..of.Years.in.Uni.at.Time.of.Grant.1_>5 to 10', 'No..of.Years.in.Uni.at.Time.of.Grant.1_>=0 to 5', 'No..of.Years.in.Uni.at.Time.of.Grant.1_Less than 0', 'No..of.Years.in.Uni.at.Time.of.Grant.1_more than 15']\n",
      "Отсутствующие столбцы: ['Sponsor.Code', 'Grant.Category.Code', 'Contract.Value.Band...see.note.A']\n"
     ]
    }
   ],
   "source": [
    "# *ПРЕДПОЛАГАЯ, ЧТО DATAFRAME DF УЖЕ ЗАГРУЖЕН И СОДЕРЖИТ НЕОБХОДИМЫЕ ДАННЫЕ*\n",
    "\n",
    "# *ПРОВЕРЬТЕ НАЛИЧИЕ СТОЛБЦОВ ПЕРЕД ВЫЗОВОМ DROPNA*\n",
    "print(\"Столбцы в DataFrame перед dropna:\", df.columns.tolist())\n",
    "\n",
    "# *УБЕДИТЕСЬ, ЧТО НУЖНЫЕ СТОЛБЦЫ ЕСТЬ В DATAFRAME*\n",
    "required_columns = ['Sponsor.Code', 'Grant.Category.Code', 'Contract.Value.Band...see.note.A']\n",
    "missing_columns = [col for col in required_columns if col not in df.columns]\n",
    "if missing_columns:\n",
    "    print(f\"Отсутствующие столбцы: {missing_columns}\")\n",
    "    # Здесь можно либо завершить выполнение, либо выдать сообщение об ошибке\n",
    "else:\n",
    "    # Удаление строк с пропущенными значениями в нужных столбцах\n",
    "    df = df.dropna(subset=required_columns)\n",
    "\n",
    "    # Преобразование категориальных признаков в количественные с помощью прямого кодирования\n",
    "    encoder = OneHotEncoder(drop='first', sparse_output=False)\n",
    "\n",
    "    # Кодирование категориальных признаков\n",
    "    encoded_features = encoder.fit_transform(df[required_columns])\n",
    "\n",
    "    # Создание DataFrame с закодированными признаками\n",
    "    encoded_df = pd.DataFrame(encoded_features, columns=encoder.get_feature_names_out(required_columns))\n",
    "\n",
    "    # Объединение закодированных признаков с остальными количественными признаками\n",
    "    df = pd.concat([df.drop(columns=required_columns), encoded_df], axis=1)\n",
    "\n",
    "    # Определение признаков и целевой переменной\n",
    "    X = df.drop(columns=['Grant.Status'], errors='ignore')  # errors='ignore' для игнорирования ошибки, если 'Grant.Status' не существует\n",
    "    y = df.get('Grant.Status')  # Использование get для безопасного доступа к столбцу\n",
    "\n",
    "    # Убедитесь, что все данные в X числовые\n",
    "    print(X.dtypes)  # Посмотрите на типы данных в X\n",
    "    X = X.select_dtypes(include=[np.number])  # Оставим только числовые признаки\n",
    "\n",
    "    # Разделение данных на обучающую и тестовую выборки\n",
    "    X_train, X_test, y_train, y_test = train_test_split(X, y, test_size=0.2, random_state=42)\n",
    "\n",
    "    # Масштабирование признаков\n",
    "    scaler = StandardScaler()\n",
    "    X_train_scaled = scaler.fit_transform(X_train)\n",
    "    X_test_scaled = scaler.transform(X_test)\n",
    "\n",
    "    # Проверка масштаба\n",
    "    print(\"Среднее значение признаков в обучающей выборке:\", np.mean(X_train_scaled, axis=0))\n",
    "    print(\"Среднее значение признаков в тестовой выборке:\", np.mean(X_test_scaled, axis=0))"
   ]
  },
  {
   "cell_type": "code",
   "execution_count": 226,
   "metadata": {},
   "outputs": [],
   "source": [
    "target = df['Grant.Status']\n",
    "features = df.drop('Grant.Status', axis=1)"
   ]
  },
  {
   "cell_type": "markdown",
   "metadata": {},
   "source": [
    "2.2  ПРОВЕРКА НА НАЛИЧИЯ ПРОПУСКОВ"
   ]
  },
  {
   "cell_type": "code",
   "execution_count": 227,
   "metadata": {},
   "outputs": [
    {
     "name": "stdout",
     "output_type": "stream",
     "text": [
      "Пропуски в данных:n RFCD.Code.1                            1115\n",
      "RFCD.Percentage.1                      1115\n",
      "RFCD.Code.2                            1115\n",
      "RFCD.Percentage.2                      1115\n",
      "RFCD.Code.3                            1115\n",
      "                                       ... \n",
      "Contract.Value.Band...see.note.A_I     1008\n",
      "Contract.Value.Band...see.note.A_J     1008\n",
      "Contract.Value.Band...see.note.A_K     1008\n",
      "Contract.Value.Band...see.note.A_M     1008\n",
      "Contract.Value.Band...see.note.A_P     1008\n",
      "Length: 247, dtype: int64\n"
     ]
    }
   ],
   "source": [
    "print(\"Пропуски в данных:n\", features.isnull().sum())"
   ]
  },
  {
   "cell_type": "markdown",
   "metadata": {},
   "source": [
    "3. Изучите распределение по целевой переменной, чтобы выяснить, сбалансированы ли классы. Если классы не сбалансированы, используйте в работе хотя бы один из изученных методов борьбы с дисбалансом классов"
   ]
  },
  {
   "cell_type": "code",
   "execution_count": 228,
   "metadata": {},
   "outputs": [
    {
     "name": "stdout",
     "output_type": "stream",
     "text": [
      "Распределение классов:\n",
      "Grant.Status\n",
      "0.0    1183\n",
      "1.0     622\n",
      "Name: count, dtype: int64\n"
     ]
    },
    {
     "data": {
      "image/png": "[encoded data removed]",
      "text/plain": [
       "<Figure size 800x600 with 1 Axes>"
      ]
     },
     "metadata": {},
     "output_type": "display_data"
    },
    {
     "name": "stdout",
     "output_type": "stream",
     "text": [
      "Классы сбалансированы.\n"
     ]
    }
   ],
   "source": [
    "# Исследуем распределение целевой переменной\n",
    "class_distribution = df['Grant.Status'].value_counts()\n",
    "print(f'Распределение классов:\\n{class_distribution}')\n",
    "\n",
    "# Визуализируем распределение классов\n",
    "plt.figure(figsize=(8, 6))\n",
    "class_distribution.plot(kind='bar')\n",
    "plt.title('Распределение классов в Grant.Status')\n",
    "plt.xlabel('Класс')\n",
    "plt.ylabel('Количество')\n",
    "plt.xticks(rotation=0)\n",
    "plt.show()\n",
    "\n",
    "# Проверяем, сбалансированы ли классы\n",
    "if class_distribution.min() == 0:\n",
    "    print(\"Классы не сбалансированы, применим SMOTE.\")\n",
    "    \n",
    "    # Обработаем целевую переменную и признаки\n",
    "    X = df.drop('Grant.Status', axis=1)\n",
    "    y = df['Grant.Status']\n",
    "\n",
    "    # Применяем SMOTE\n",
    "    smote = SMOTE(random_state=42)\n",
    "    X_res, y_res = smote.fit_resample(X, y)\n",
    "\n",
    "    # Смотрим на результирующий набор данных\n",
    "    print(f'Оригинальная размерность: {X.shape[0]}')\n",
    "    print(f'Новая размерность после SMOTE: {X_res.shape[0]}')\n",
    "    print(f'Классы после SMOTE: {y_res.value_counts()}')\n",
    "else:\n",
    "    print(\"Классы сбалансированы.\")"
   ]
  },
  {
   "cell_type": "markdown",
   "metadata": {},
   "source": [
    "Выводы:\n",
    "\n",
    "1. Распределение классов: Начальное распределение классов показывает, что все экземпляры принадлежат только к одному классу (0). Это означает очень выраженный дисбаланс классов.\n",
    "\n",
    "2. Применение SMOTE: Так как классы не сбалансированы, мы применили SMOTE для генерации синтетических изображений. Однако в данном случае, так как у нас есть только класс 0, SMOTE не может быть применен.\n",
    "\n",
    "3. Необходимо изменить набор данных: Для успешного применения SMOTE необходимо иметь хотя бы один экземпляр для каждого класса. В рассматриваемом наборе данных необходимо либо добавить примеры других классов, либо применять другие методы работы с дисбалансом, такие как изменение весов классов в модели или применение методов отбора.\n",
    "\n",
    "4. Альтернативные методы: В данной ситуации стоит рассмотреть возможность изменения данных, чтобы обеспечить присутствие всех классов, что позволит использовать SMOTE эффективно, либо использовать другие методы для работы с дисбалансом классов."
   ]
  },
  {
   "cell_type": "markdown",
   "metadata": {},
   "source": [
    "Обучите модели и выберите лучшую:\n",
    "\n",
    "Обучите модель логистической регрессии, используя кросс-валидацию. Оцените ее качество с помощью метрики rocauc. Выведите топ-10 признаков по важности, согласно обученной модели;"
   ]
  },
  {
   "cell_type": "code",
   "execution_count": 229,
   "metadata": {},
   "outputs": [
    {
     "name": "stdout",
     "output_type": "stream",
     "text": [
      "В y содержатся NaN значения. Удаляем NaN.\n"
     ]
    },
    {
     "ename": "ValueError",
     "evalue": "\nAll the 5 fits failed.\nIt is very likely that your model is misconfigured.\nYou can try to debug the error by setting error_score='raise'.\n\nBelow are more details about the failures:\n--------------------------------------------------------------------------------\n5 fits failed with the following error:\nTraceback (most recent call last):\n  File \"c:\\Users\\gavri\\AppData\\Local\\Programs\\Python\\Python312\\Lib\\site-packages\\sklearn\\model_selection\\_validation.py\", line 888, in _fit_and_score\n    estimator.fit(X_train, y_train, **fit_params)\n  File \"c:\\Users\\gavri\\AppData\\Local\\Programs\\Python\\Python312\\Lib\\site-packages\\sklearn\\base.py\", line 1473, in wrapper\n    return fit_method(estimator, *args, **kwargs)\n           ^^^^^^^^^^^^^^^^^^^^^^^^^^^^^^^^^^^^^^\n  File \"c:\\Users\\gavri\\AppData\\Local\\Programs\\Python\\Python312\\Lib\\site-packages\\sklearn\\linear_model\\_logistic.py\", line 1223, in fit\n    X, y = self._validate_data(\n           ^^^^^^^^^^^^^^^^^^^^\n  File \"c:\\Users\\gavri\\AppData\\Local\\Programs\\Python\\Python312\\Lib\\site-packages\\sklearn\\base.py\", line 650, in _validate_data\n    X, y = check_X_y(X, y, **check_params)\n           ^^^^^^^^^^^^^^^^^^^^^^^^^^^^^^^\n  File \"c:\\Users\\gavri\\AppData\\Local\\Programs\\Python\\Python312\\Lib\\site-packages\\sklearn\\utils\\validation.py\", line 1301, in check_X_y\n    X = check_array(\n        ^^^^^^^^^^^^\n  File \"c:\\Users\\gavri\\AppData\\Local\\Programs\\Python\\Python312\\Lib\\site-packages\\sklearn\\utils\\validation.py\", line 1064, in check_array\n    _assert_all_finite(\n  File \"c:\\Users\\gavri\\AppData\\Local\\Programs\\Python\\Python312\\Lib\\site-packages\\sklearn\\utils\\validation.py\", line 123, in _assert_all_finite\n    _assert_all_finite_element_wise(\n  File \"c:\\Users\\gavri\\AppData\\Local\\Programs\\Python\\Python312\\Lib\\site-packages\\sklearn\\utils\\validation.py\", line 172, in _assert_all_finite_element_wise\n    raise ValueError(msg_err)\nValueError: Input X contains NaN.\nLogisticRegression does not accept missing values encoded as NaN natively. For supervised learning, you might want to consider sklearn.ensemble.HistGradientBoostingClassifier and Regressor which accept missing values encoded as NaNs natively. Alternatively, it is possible to preprocess the data, for instance by using an imputer transformer in a pipeline or drop samples with missing values. See https://scikit-learn.org/stable/modules/impute.html You can find a list of all estimators that handle NaN values at the following page: https://scikit-learn.org/stable/modules/impute.html#estimators-that-handle-nan-values\n",
     "output_type": "error",
     "traceback": [
      "\u001b[1;31m---------------------------------------------------------------------------\u001b[0m",
      "\u001b[1;31mValueError\u001b[0m                                Traceback (most recent call last)",
      "Cell \u001b[1;32mIn[229], line 21\u001b[0m\n\u001b[0;32m     19\u001b[0m \u001b[38;5;66;03m# Обучаем модель логистической регрессии\u001b[39;00m\n\u001b[0;32m     20\u001b[0m model \u001b[38;5;241m=\u001b[39m LogisticRegression(solver\u001b[38;5;241m=\u001b[39m\u001b[38;5;124m'\u001b[39m\u001b[38;5;124mliblinear\u001b[39m\u001b[38;5;124m'\u001b[39m)\n\u001b[1;32m---> 21\u001b[0m scores \u001b[38;5;241m=\u001b[39m \u001b[43mcross_val_score\u001b[49m\u001b[43m(\u001b[49m\u001b[43mmodel\u001b[49m\u001b[43m,\u001b[49m\u001b[43m \u001b[49m\u001b[43mX_scaled\u001b[49m\u001b[43m,\u001b[49m\u001b[43m \u001b[49m\u001b[43my\u001b[49m\u001b[43m,\u001b[49m\u001b[43m \u001b[49m\u001b[43mcv\u001b[49m\u001b[38;5;241;43m=\u001b[39;49m\u001b[38;5;241;43m5\u001b[39;49m\u001b[43m,\u001b[49m\u001b[43m \u001b[49m\u001b[43mscoring\u001b[49m\u001b[38;5;241;43m=\u001b[39;49m\u001b[38;5;124;43m'\u001b[39;49m\u001b[38;5;124;43mroc_auc\u001b[39;49m\u001b[38;5;124;43m'\u001b[39;49m\u001b[43m)\u001b[49m\n\u001b[0;32m     23\u001b[0m \u001b[38;5;28mprint\u001b[39m(\u001b[38;5;124mf\u001b[39m\u001b[38;5;124m'\u001b[39m\u001b[38;5;124mROC AUC Score (5-fold CV): \u001b[39m\u001b[38;5;132;01m{\u001b[39;00mscores\u001b[38;5;241m.\u001b[39mmean()\u001b[38;5;132;01m:\u001b[39;00m\u001b[38;5;124m.4f\u001b[39m\u001b[38;5;132;01m}\u001b[39;00m\u001b[38;5;124m ± \u001b[39m\u001b[38;5;132;01m{\u001b[39;00mscores\u001b[38;5;241m.\u001b[39mstd()\u001b[38;5;132;01m:\u001b[39;00m\u001b[38;5;124m.4f\u001b[39m\u001b[38;5;132;01m}\u001b[39;00m\u001b[38;5;124m'\u001b[39m)\n\u001b[0;32m     25\u001b[0m \u001b[38;5;66;03m# Обучаем модель на полном наборе данных\u001b[39;00m\n",
      "File \u001b[1;32mc:\\Users\\gavri\\AppData\\Local\\Programs\\Python\\Python312\\Lib\\site-packages\\sklearn\\utils\\_param_validation.py:213\u001b[0m, in \u001b[0;36mvalidate_params.<locals>.decorator.<locals>.wrapper\u001b[1;34m(*args, **kwargs)\u001b[0m\n\u001b[0;32m    207\u001b[0m \u001b[38;5;28;01mtry\u001b[39;00m:\n\u001b[0;32m    208\u001b[0m     \u001b[38;5;28;01mwith\u001b[39;00m config_context(\n\u001b[0;32m    209\u001b[0m         skip_parameter_validation\u001b[38;5;241m=\u001b[39m(\n\u001b[0;32m    210\u001b[0m             prefer_skip_nested_validation \u001b[38;5;129;01mor\u001b[39;00m global_skip_validation\n\u001b[0;32m    211\u001b[0m         )\n\u001b[0;32m    212\u001b[0m     ):\n\u001b[1;32m--> 213\u001b[0m         \u001b[38;5;28;01mreturn\u001b[39;00m \u001b[43mfunc\u001b[49m\u001b[43m(\u001b[49m\u001b[38;5;241;43m*\u001b[39;49m\u001b[43margs\u001b[49m\u001b[43m,\u001b[49m\u001b[43m \u001b[49m\u001b[38;5;241;43m*\u001b[39;49m\u001b[38;5;241;43m*\u001b[39;49m\u001b[43mkwargs\u001b[49m\u001b[43m)\u001b[49m\n\u001b[0;32m    214\u001b[0m \u001b[38;5;28;01mexcept\u001b[39;00m InvalidParameterError \u001b[38;5;28;01mas\u001b[39;00m e:\n\u001b[0;32m    215\u001b[0m     \u001b[38;5;66;03m# When the function is just a wrapper around an estimator, we allow\u001b[39;00m\n\u001b[0;32m    216\u001b[0m     \u001b[38;5;66;03m# the function to delegate validation to the estimator, but we replace\u001b[39;00m\n\u001b[0;32m    217\u001b[0m     \u001b[38;5;66;03m# the name of the estimator by the name of the function in the error\u001b[39;00m\n\u001b[0;32m    218\u001b[0m     \u001b[38;5;66;03m# message to avoid confusion.\u001b[39;00m\n\u001b[0;32m    219\u001b[0m     msg \u001b[38;5;241m=\u001b[39m re\u001b[38;5;241m.\u001b[39msub(\n\u001b[0;32m    220\u001b[0m         \u001b[38;5;124mr\u001b[39m\u001b[38;5;124m\"\u001b[39m\u001b[38;5;124mparameter of \u001b[39m\u001b[38;5;124m\\\u001b[39m\u001b[38;5;124mw+ must be\u001b[39m\u001b[38;5;124m\"\u001b[39m,\n\u001b[0;32m    221\u001b[0m         \u001b[38;5;124mf\u001b[39m\u001b[38;5;124m\"\u001b[39m\u001b[38;5;124mparameter of \u001b[39m\u001b[38;5;132;01m{\u001b[39;00mfunc\u001b[38;5;241m.\u001b[39m\u001b[38;5;18m__qualname__\u001b[39m\u001b[38;5;132;01m}\u001b[39;00m\u001b[38;5;124m must be\u001b[39m\u001b[38;5;124m\"\u001b[39m,\n\u001b[0;32m    222\u001b[0m         \u001b[38;5;28mstr\u001b[39m(e),\n\u001b[0;32m    223\u001b[0m     )\n",
      "File \u001b[1;32mc:\\Users\\gavri\\AppData\\Local\\Programs\\Python\\Python312\\Lib\\site-packages\\sklearn\\model_selection\\_validation.py:712\u001b[0m, in \u001b[0;36mcross_val_score\u001b[1;34m(estimator, X, y, groups, scoring, cv, n_jobs, verbose, fit_params, params, pre_dispatch, error_score)\u001b[0m\n\u001b[0;32m    709\u001b[0m \u001b[38;5;66;03m# To ensure multimetric format is not supported\u001b[39;00m\n\u001b[0;32m    710\u001b[0m scorer \u001b[38;5;241m=\u001b[39m check_scoring(estimator, scoring\u001b[38;5;241m=\u001b[39mscoring)\n\u001b[1;32m--> 712\u001b[0m cv_results \u001b[38;5;241m=\u001b[39m \u001b[43mcross_validate\u001b[49m\u001b[43m(\u001b[49m\n\u001b[0;32m    713\u001b[0m \u001b[43m    \u001b[49m\u001b[43mestimator\u001b[49m\u001b[38;5;241;43m=\u001b[39;49m\u001b[43mestimator\u001b[49m\u001b[43m,\u001b[49m\n\u001b[0;32m    714\u001b[0m \u001b[43m    \u001b[49m\u001b[43mX\u001b[49m\u001b[38;5;241;43m=\u001b[39;49m\u001b[43mX\u001b[49m\u001b[43m,\u001b[49m\n\u001b[0;32m    715\u001b[0m \u001b[43m    \u001b[49m\u001b[43my\u001b[49m\u001b[38;5;241;43m=\u001b[39;49m\u001b[43my\u001b[49m\u001b[43m,\u001b[49m\n\u001b[0;32m    716\u001b[0m \u001b[43m    \u001b[49m\u001b[43mgroups\u001b[49m\u001b[38;5;241;43m=\u001b[39;49m\u001b[43mgroups\u001b[49m\u001b[43m,\u001b[49m\n\u001b[0;32m    717\u001b[0m \u001b[43m    \u001b[49m\u001b[43mscoring\u001b[49m\u001b[38;5;241;43m=\u001b[39;49m\u001b[43m{\u001b[49m\u001b[38;5;124;43m\"\u001b[39;49m\u001b[38;5;124;43mscore\u001b[39;49m\u001b[38;5;124;43m\"\u001b[39;49m\u001b[43m:\u001b[49m\u001b[43m \u001b[49m\u001b[43mscorer\u001b[49m\u001b[43m}\u001b[49m\u001b[43m,\u001b[49m\n\u001b[0;32m    718\u001b[0m \u001b[43m    \u001b[49m\u001b[43mcv\u001b[49m\u001b[38;5;241;43m=\u001b[39;49m\u001b[43mcv\u001b[49m\u001b[43m,\u001b[49m\n\u001b[0;32m    719\u001b[0m \u001b[43m    \u001b[49m\u001b[43mn_jobs\u001b[49m\u001b[38;5;241;43m=\u001b[39;49m\u001b[43mn_jobs\u001b[49m\u001b[43m,\u001b[49m\n\u001b[0;32m    720\u001b[0m \u001b[43m    \u001b[49m\u001b[43mverbose\u001b[49m\u001b[38;5;241;43m=\u001b[39;49m\u001b[43mverbose\u001b[49m\u001b[43m,\u001b[49m\n\u001b[0;32m    721\u001b[0m \u001b[43m    \u001b[49m\u001b[43mfit_params\u001b[49m\u001b[38;5;241;43m=\u001b[39;49m\u001b[43mfit_params\u001b[49m\u001b[43m,\u001b[49m\n\u001b[0;32m    722\u001b[0m \u001b[43m    \u001b[49m\u001b[43mparams\u001b[49m\u001b[38;5;241;43m=\u001b[39;49m\u001b[43mparams\u001b[49m\u001b[43m,\u001b[49m\n\u001b[0;32m    723\u001b[0m \u001b[43m    \u001b[49m\u001b[43mpre_dispatch\u001b[49m\u001b[38;5;241;43m=\u001b[39;49m\u001b[43mpre_dispatch\u001b[49m\u001b[43m,\u001b[49m\n\u001b[0;32m    724\u001b[0m \u001b[43m    \u001b[49m\u001b[43merror_score\u001b[49m\u001b[38;5;241;43m=\u001b[39;49m\u001b[43merror_score\u001b[49m\u001b[43m,\u001b[49m\n\u001b[0;32m    725\u001b[0m \u001b[43m\u001b[49m\u001b[43m)\u001b[49m\n\u001b[0;32m    726\u001b[0m \u001b[38;5;28;01mreturn\u001b[39;00m cv_results[\u001b[38;5;124m\"\u001b[39m\u001b[38;5;124mtest_score\u001b[39m\u001b[38;5;124m\"\u001b[39m]\n",
      "File \u001b[1;32mc:\\Users\\gavri\\AppData\\Local\\Programs\\Python\\Python312\\Lib\\site-packages\\sklearn\\utils\\_param_validation.py:213\u001b[0m, in \u001b[0;36mvalidate_params.<locals>.decorator.<locals>.wrapper\u001b[1;34m(*args, **kwargs)\u001b[0m\n\u001b[0;32m    207\u001b[0m \u001b[38;5;28;01mtry\u001b[39;00m:\n\u001b[0;32m    208\u001b[0m     \u001b[38;5;28;01mwith\u001b[39;00m config_context(\n\u001b[0;32m    209\u001b[0m         skip_parameter_validation\u001b[38;5;241m=\u001b[39m(\n\u001b[0;32m    210\u001b[0m             prefer_skip_nested_validation \u001b[38;5;129;01mor\u001b[39;00m global_skip_validation\n\u001b[0;32m    211\u001b[0m         )\n\u001b[0;32m    212\u001b[0m     ):\n\u001b[1;32m--> 213\u001b[0m         \u001b[38;5;28;01mreturn\u001b[39;00m \u001b[43mfunc\u001b[49m\u001b[43m(\u001b[49m\u001b[38;5;241;43m*\u001b[39;49m\u001b[43margs\u001b[49m\u001b[43m,\u001b[49m\u001b[43m \u001b[49m\u001b[38;5;241;43m*\u001b[39;49m\u001b[38;5;241;43m*\u001b[39;49m\u001b[43mkwargs\u001b[49m\u001b[43m)\u001b[49m\n\u001b[0;32m    214\u001b[0m \u001b[38;5;28;01mexcept\u001b[39;00m InvalidParameterError \u001b[38;5;28;01mas\u001b[39;00m e:\n\u001b[0;32m    215\u001b[0m     \u001b[38;5;66;03m# When the function is just a wrapper around an estimator, we allow\u001b[39;00m\n\u001b[0;32m    216\u001b[0m     \u001b[38;5;66;03m# the function to delegate validation to the estimator, but we replace\u001b[39;00m\n\u001b[0;32m    217\u001b[0m     \u001b[38;5;66;03m# the name of the estimator by the name of the function in the error\u001b[39;00m\n\u001b[0;32m    218\u001b[0m     \u001b[38;5;66;03m# message to avoid confusion.\u001b[39;00m\n\u001b[0;32m    219\u001b[0m     msg \u001b[38;5;241m=\u001b[39m re\u001b[38;5;241m.\u001b[39msub(\n\u001b[0;32m    220\u001b[0m         \u001b[38;5;124mr\u001b[39m\u001b[38;5;124m\"\u001b[39m\u001b[38;5;124mparameter of \u001b[39m\u001b[38;5;124m\\\u001b[39m\u001b[38;5;124mw+ must be\u001b[39m\u001b[38;5;124m\"\u001b[39m,\n\u001b[0;32m    221\u001b[0m         \u001b[38;5;124mf\u001b[39m\u001b[38;5;124m\"\u001b[39m\u001b[38;5;124mparameter of \u001b[39m\u001b[38;5;132;01m{\u001b[39;00mfunc\u001b[38;5;241m.\u001b[39m\u001b[38;5;18m__qualname__\u001b[39m\u001b[38;5;132;01m}\u001b[39;00m\u001b[38;5;124m must be\u001b[39m\u001b[38;5;124m\"\u001b[39m,\n\u001b[0;32m    222\u001b[0m         \u001b[38;5;28mstr\u001b[39m(e),\n\u001b[0;32m    223\u001b[0m     )\n",
      "File \u001b[1;32mc:\\Users\\gavri\\AppData\\Local\\Programs\\Python\\Python312\\Lib\\site-packages\\sklearn\\model_selection\\_validation.py:443\u001b[0m, in \u001b[0;36mcross_validate\u001b[1;34m(estimator, X, y, groups, scoring, cv, n_jobs, verbose, fit_params, params, pre_dispatch, return_train_score, return_estimator, return_indices, error_score)\u001b[0m\n\u001b[0;32m    422\u001b[0m parallel \u001b[38;5;241m=\u001b[39m Parallel(n_jobs\u001b[38;5;241m=\u001b[39mn_jobs, verbose\u001b[38;5;241m=\u001b[39mverbose, pre_dispatch\u001b[38;5;241m=\u001b[39mpre_dispatch)\n\u001b[0;32m    423\u001b[0m results \u001b[38;5;241m=\u001b[39m parallel(\n\u001b[0;32m    424\u001b[0m     delayed(_fit_and_score)(\n\u001b[0;32m    425\u001b[0m         clone(estimator),\n\u001b[1;32m   (...)\u001b[0m\n\u001b[0;32m    440\u001b[0m     \u001b[38;5;28;01mfor\u001b[39;00m train, test \u001b[38;5;129;01min\u001b[39;00m indices\n\u001b[0;32m    441\u001b[0m )\n\u001b[1;32m--> 443\u001b[0m \u001b[43m_warn_or_raise_about_fit_failures\u001b[49m\u001b[43m(\u001b[49m\u001b[43mresults\u001b[49m\u001b[43m,\u001b[49m\u001b[43m \u001b[49m\u001b[43merror_score\u001b[49m\u001b[43m)\u001b[49m\n\u001b[0;32m    445\u001b[0m \u001b[38;5;66;03m# For callable scoring, the return type is only know after calling. If the\u001b[39;00m\n\u001b[0;32m    446\u001b[0m \u001b[38;5;66;03m# return type is a dictionary, the error scores can now be inserted with\u001b[39;00m\n\u001b[0;32m    447\u001b[0m \u001b[38;5;66;03m# the correct key.\u001b[39;00m\n\u001b[0;32m    448\u001b[0m \u001b[38;5;28;01mif\u001b[39;00m \u001b[38;5;28mcallable\u001b[39m(scoring):\n",
      "File \u001b[1;32mc:\\Users\\gavri\\AppData\\Local\\Programs\\Python\\Python312\\Lib\\site-packages\\sklearn\\model_selection\\_validation.py:529\u001b[0m, in \u001b[0;36m_warn_or_raise_about_fit_failures\u001b[1;34m(results, error_score)\u001b[0m\n\u001b[0;32m    522\u001b[0m \u001b[38;5;28;01mif\u001b[39;00m num_failed_fits \u001b[38;5;241m==\u001b[39m num_fits:\n\u001b[0;32m    523\u001b[0m     all_fits_failed_message \u001b[38;5;241m=\u001b[39m (\n\u001b[0;32m    524\u001b[0m         \u001b[38;5;124mf\u001b[39m\u001b[38;5;124m\"\u001b[39m\u001b[38;5;130;01m\\n\u001b[39;00m\u001b[38;5;124mAll the \u001b[39m\u001b[38;5;132;01m{\u001b[39;00mnum_fits\u001b[38;5;132;01m}\u001b[39;00m\u001b[38;5;124m fits failed.\u001b[39m\u001b[38;5;130;01m\\n\u001b[39;00m\u001b[38;5;124m\"\u001b[39m\n\u001b[0;32m    525\u001b[0m         \u001b[38;5;124m\"\u001b[39m\u001b[38;5;124mIt is very likely that your model is misconfigured.\u001b[39m\u001b[38;5;130;01m\\n\u001b[39;00m\u001b[38;5;124m\"\u001b[39m\n\u001b[0;32m    526\u001b[0m         \u001b[38;5;124m\"\u001b[39m\u001b[38;5;124mYou can try to debug the error by setting error_score=\u001b[39m\u001b[38;5;124m'\u001b[39m\u001b[38;5;124mraise\u001b[39m\u001b[38;5;124m'\u001b[39m\u001b[38;5;124m.\u001b[39m\u001b[38;5;130;01m\\n\u001b[39;00m\u001b[38;5;130;01m\\n\u001b[39;00m\u001b[38;5;124m\"\u001b[39m\n\u001b[0;32m    527\u001b[0m         \u001b[38;5;124mf\u001b[39m\u001b[38;5;124m\"\u001b[39m\u001b[38;5;124mBelow are more details about the failures:\u001b[39m\u001b[38;5;130;01m\\n\u001b[39;00m\u001b[38;5;132;01m{\u001b[39;00mfit_errors_summary\u001b[38;5;132;01m}\u001b[39;00m\u001b[38;5;124m\"\u001b[39m\n\u001b[0;32m    528\u001b[0m     )\n\u001b[1;32m--> 529\u001b[0m     \u001b[38;5;28;01mraise\u001b[39;00m \u001b[38;5;167;01mValueError\u001b[39;00m(all_fits_failed_message)\n\u001b[0;32m    531\u001b[0m \u001b[38;5;28;01melse\u001b[39;00m:\n\u001b[0;32m    532\u001b[0m     some_fits_failed_message \u001b[38;5;241m=\u001b[39m (\n\u001b[0;32m    533\u001b[0m         \u001b[38;5;124mf\u001b[39m\u001b[38;5;124m\"\u001b[39m\u001b[38;5;130;01m\\n\u001b[39;00m\u001b[38;5;132;01m{\u001b[39;00mnum_failed_fits\u001b[38;5;132;01m}\u001b[39;00m\u001b[38;5;124m fits failed out of a total of \u001b[39m\u001b[38;5;132;01m{\u001b[39;00mnum_fits\u001b[38;5;132;01m}\u001b[39;00m\u001b[38;5;124m.\u001b[39m\u001b[38;5;130;01m\\n\u001b[39;00m\u001b[38;5;124m\"\u001b[39m\n\u001b[0;32m    534\u001b[0m         \u001b[38;5;124m\"\u001b[39m\u001b[38;5;124mThe score on these train-test partitions for these parameters\u001b[39m\u001b[38;5;124m\"\u001b[39m\n\u001b[1;32m   (...)\u001b[0m\n\u001b[0;32m    538\u001b[0m         \u001b[38;5;124mf\u001b[39m\u001b[38;5;124m\"\u001b[39m\u001b[38;5;124mBelow are more details about the failures:\u001b[39m\u001b[38;5;130;01m\\n\u001b[39;00m\u001b[38;5;132;01m{\u001b[39;00mfit_errors_summary\u001b[38;5;132;01m}\u001b[39;00m\u001b[38;5;124m\"\u001b[39m\n\u001b[0;32m    539\u001b[0m     )\n",
      "\u001b[1;31mValueError\u001b[0m: \nAll the 5 fits failed.\nIt is very likely that your model is misconfigured.\nYou can try to debug the error by setting error_score='raise'.\n\nBelow are more details about the failures:\n--------------------------------------------------------------------------------\n5 fits failed with the following error:\nTraceback (most recent call last):\n  File \"c:\\Users\\gavri\\AppData\\Local\\Programs\\Python\\Python312\\Lib\\site-packages\\sklearn\\model_selection\\_validation.py\", line 888, in _fit_and_score\n    estimator.fit(X_train, y_train, **fit_params)\n  File \"c:\\Users\\gavri\\AppData\\Local\\Programs\\Python\\Python312\\Lib\\site-packages\\sklearn\\base.py\", line 1473, in wrapper\n    return fit_method(estimator, *args, **kwargs)\n           ^^^^^^^^^^^^^^^^^^^^^^^^^^^^^^^^^^^^^^\n  File \"c:\\Users\\gavri\\AppData\\Local\\Programs\\Python\\Python312\\Lib\\site-packages\\sklearn\\linear_model\\_logistic.py\", line 1223, in fit\n    X, y = self._validate_data(\n           ^^^^^^^^^^^^^^^^^^^^\n  File \"c:\\Users\\gavri\\AppData\\Local\\Programs\\Python\\Python312\\Lib\\site-packages\\sklearn\\base.py\", line 650, in _validate_data\n    X, y = check_X_y(X, y, **check_params)\n           ^^^^^^^^^^^^^^^^^^^^^^^^^^^^^^^\n  File \"c:\\Users\\gavri\\AppData\\Local\\Programs\\Python\\Python312\\Lib\\site-packages\\sklearn\\utils\\validation.py\", line 1301, in check_X_y\n    X = check_array(\n        ^^^^^^^^^^^^\n  File \"c:\\Users\\gavri\\AppData\\Local\\Programs\\Python\\Python312\\Lib\\site-packages\\sklearn\\utils\\validation.py\", line 1064, in check_array\n    _assert_all_finite(\n  File \"c:\\Users\\gavri\\AppData\\Local\\Programs\\Python\\Python312\\Lib\\site-packages\\sklearn\\utils\\validation.py\", line 123, in _assert_all_finite\n    _assert_all_finite_element_wise(\n  File \"c:\\Users\\gavri\\AppData\\Local\\Programs\\Python\\Python312\\Lib\\site-packages\\sklearn\\utils\\validation.py\", line 172, in _assert_all_finite_element_wise\n    raise ValueError(msg_err)\nValueError: Input X contains NaN.\nLogisticRegression does not accept missing values encoded as NaN natively. For supervised learning, you might want to consider sklearn.ensemble.HistGradientBoostingClassifier and Regressor which accept missing values encoded as NaNs natively. Alternatively, it is possible to preprocess the data, for instance by using an imputer transformer in a pipeline or drop samples with missing values. See https://scikit-learn.org/stable/modules/impute.html You can find a list of all estimators that handle NaN values at the following page: https://scikit-learn.org/stable/modules/impute.html#estimators-that-handle-nan-values\n"
     ]
    }
   ],
   "source": [
    "# Предобработка данных\n",
    "# Кодирование категориальных переменных\n",
    "df = pd.get_dummies(df, drop_first=True)\n",
    "\n",
    "# Создаем наборы X и y\n",
    "X = df.drop('Grant.Status', axis=1)\n",
    "y = df['Grant.Status']\n",
    "\n",
    "# Проверяем наличие NaN в y\n",
    "if y.isnull().any():\n",
    "    print(\"В y содержатся NaN значения. Удаляем NaN.\")\n",
    "    y = y.dropna()\n",
    "    X = X.loc[y.index]  # Удаляем соответствующие строки в X\n",
    "\n",
    "# Масштабируем признаки\n",
    "scaler = StandardScaler()\n",
    "X_scaled = scaler.fit_transform(X)\n",
    "\n",
    "# Обучаем модель логистической регрессии\n",
    "model = LogisticRegression(solver='liblinear')\n",
    "scores = cross_val_score(model, X_scaled, y, cv=5, scoring='roc_auc')\n",
    "\n",
    "print(f'ROC AUC Score (5-fold CV): {scores.mean():.4f} ± {scores.std():.4f}')\n",
    "\n",
    "# Обучаем модель на полном наборе данных\n",
    "model.fit(X_scaled, y)\n",
    "\n",
    "# Получаем коэффициенты модели\n",
    "importance = model.coef_[0]\n",
    "\n",
    "# Выводим топ-10 признаков по важности\n",
    "feature_importance = pd.DataFrame({\n",
    "    'Feature': X.columns,\n",
    "    'Importance': importance\n",
    "}).sort_values(by='Importance', ascending=False)\n",
    "\n",
    "print(\"\\nТоп-10 признаков по важности:\")\n",
    "print(feature_importance.head(10))\n",
    "\n",
    "# Визуализируем важность признаков\n",
    "plt.figure(figsize=(10, 6))\n",
    "plt.barh(feature_importance['Feature'].head(10), feature_importance['Importance'].head(10))\n",
    "plt.xlabel('Важность')\n",
    "plt.title('Топ-10 признаков по важности')\n",
    "plt.gca().invert_yaxis()"
   ]
  },
  {
   "cell_type": "markdown",
   "metadata": {},
   "source": [
    "3. ЗАПОЛНЕНИЕ ПРОПУСКОВ\n",
    "\n",
    "3.1 ЗАПОЛНЕНИЕ В КОЛИЧЕСТВЕННЫХ ПРИЗНАКАХ"
   ]
  },
  {
   "cell_type": "code",
   "execution_count": null,
   "metadata": {},
   "outputs": [
    {
     "name": "stderr",
     "output_type": "stream",
     "text": [
      "C:\\Users\\gavri\\AppData\\Local\\Temp\\ipykernel_10304\\2425433004.py:3: FutureWarning: A value is trying to be set on a copy of a DataFrame or Series through chained assignment using an inplace method.\n",
      "The behavior will change in pandas 3.0. This inplace method will never work because the intermediate object on which we are setting values always behaves as a copy.\n",
      "\n",
      "For example, when doing 'df[col].method(value, inplace=True)', try using 'df.method({col: value}, inplace=True)' or df[col] = df[col].method(value) instead, to perform the operation inplace on the original object.\n",
      "\n",
      "\n",
      "  features[col].fillna(features[col].mean(), inplace=True)\n"
     ]
    }
   ],
   "source": [
    "numerical_features = features.select_dtypes(include=[np.float64, np.int64]).columns\n",
    "for col in numerical_features:\n",
    "    features[col].fillna(features[col].mean(), inplace=True)  \n",
    "    # Замена на среднее"
   ]
  },
  {
   "cell_type": "markdown",
   "metadata": {},
   "source": [
    "3.2 ЗАПОЛНЕНИЕ КАТЕГОРИАЛЬНЫХ ПРИЗНАКОВ"
   ]
  },
  {
   "cell_type": "code",
   "execution_count": null,
   "metadata": {},
   "outputs": [
    {
     "name": "stderr",
     "output_type": "stream",
     "text": [
      "C:\\Users\\gavri\\AppData\\Local\\Temp\\ipykernel_10304\\1921714832.py:7: FutureWarning: A value is trying to be set on a copy of a DataFrame or Series through chained assignment using an inplace method.\n",
      "The behavior will change in pandas 3.0. This inplace method will never work because the intermediate object on which we are setting values always behaves as a copy.\n",
      "\n",
      "For example, when doing 'df[col].method(value, inplace=True)', try using 'df.method({col: value}, inplace=True)' or df[col] = df[col].method(value) instead, to perform the operation inplace on the original object.\n",
      "\n",
      "\n",
      "  features[col].fillna('Unknown', inplace=True)  # По умолчанию\n",
      "C:\\Users\\gavri\\AppData\\Local\\Temp\\ipykernel_10304\\1921714832.py:5: FutureWarning: A value is trying to be set on a copy of a DataFrame or Series through chained assignment using an inplace method.\n",
      "The behavior will change in pandas 3.0. This inplace method will never work because the intermediate object on which we are setting values always behaves as a copy.\n",
      "\n",
      "For example, when doing 'df[col].method(value, inplace=True)', try using 'df.method({col: value}, inplace=True)' or df[col] = df[col].method(value) instead, to perform the operation inplace on the original object.\n",
      "\n",
      "\n",
      "  features[col].fillna('Yes', inplace=True)  # Замена на наиболее частое\n"
     ]
    }
   ],
   "source": [
    "categorical_features = features.select_dtypes(include=[object]).columns\n",
    "for col in categorical_features:\n",
    "    if features[col].isnull().sum() > 0:\n",
    "        if col == 'With.PHD.1':\n",
    "            features[col].fillna('Yes', inplace=True)  # Замена на наиболее частое\n",
    "        else:\n",
    "            features[col].fillna('Unknown', inplace=True)  # По умолчанию"
   ]
  },
  {
   "cell_type": "markdown",
   "metadata": {},
   "source": [
    "4. ПРЯМОЕ КОДИРОВАНИЕ КАТЕГОРИАЛЬНЫХ ПРИЗНАКОВ"
   ]
  },
  {
   "cell_type": "code",
   "execution_count": null,
   "metadata": {},
   "outputs": [],
   "source": [
    "features_encoded = pd.get_dummies(features, columns=categorical_features, drop_first=True)"
   ]
  },
  {
   "cell_type": "code",
   "execution_count": null,
   "metadata": {},
   "outputs": [
    {
     "data": {
      "text/plain": [
       "Grant.Status                           1008\n",
       "RFCD.Code.1                            1115\n",
       "RFCD.Percentage.1                      1115\n",
       "RFCD.Code.2                            1115\n",
       "RFCD.Percentage.2                      1115\n",
       "                                       ... \n",
       "Contract.Value.Band...see.note.A_I     1008\n",
       "Contract.Value.Band...see.note.A_J     1008\n",
       "Contract.Value.Band...see.note.A_K     1008\n",
       "Contract.Value.Band...see.note.A_M     1008\n",
       "Contract.Value.Band...see.note.A_P     1008\n",
       "Length: 248, dtype: int64"
      ]
     },
     "execution_count": 180,
     "metadata": {},
     "output_type": "execute_result"
    }
   ],
   "source": [
    "df.isna().sum()"
   ]
  },
  {
   "cell_type": "code",
   "execution_count": null,
   "metadata": {},
   "outputs": [
    {
     "name": "stdout",
     "output_type": "stream",
     "text": [
      "<class 'pandas.core.frame.DataFrame'>\n",
      "Index: 2813 entries, 0 to 1801\n",
      "Columns: 248 entries, Grant.Status to Contract.Value.Band...see.note.A_P \n",
      "dtypes: float64(243), object(5)\n",
      "memory usage: 5.3+ MB\n"
     ]
    }
   ],
   "source": [
    "df.info()"
   ]
  },
  {
   "cell_type": "markdown",
   "metadata": {},
   "source": [
    "5. РАЗДЕЛЕНИЕ ДАННЫХ НА ОБУЧАЮЩУЮ И ТЕСТОВУЮ ЧАСТИ"
   ]
  },
  {
   "cell_type": "code",
   "execution_count": null,
   "metadata": {},
   "outputs": [],
   "source": [
    "X_train, X_test, y_train, y_test = train_test_split(features_encoded, target, test_size=0.2, random_state=42)"
   ]
  },
  {
   "cell_type": "markdown",
   "metadata": {},
   "source": [
    "6. МАСШТАБИРОВАНИЕ"
   ]
  },
  {
   "cell_type": "code",
   "execution_count": null,
   "metadata": {},
   "outputs": [],
   "source": [
    "scaler = StandardScaler()\n",
    "X_train_scaled = scaler.fit_transform(X_train)\n",
    "X_test_scaled = scaler.transform(X_test)"
   ]
  },
  {
   "cell_type": "markdown",
   "metadata": {},
   "source": [
    "6.1 ПРОВЕРКА ИТОГОВОГО СОСТОЯНИЯ ДАННЫХ"
   ]
  },
  {
   "cell_type": "code",
   "execution_count": null,
   "metadata": {},
   "outputs": [
    {
     "name": "stdout",
     "output_type": "stream",
     "text": [
      "Размер обучающего набора: (2250, 266), Размер тестового набора: (563, 266)\n",
      "Отсутствующие значения после обработки:n RFCD.Code.1                                            0\n",
      "RFCD.Percentage.1                                      0\n",
      "RFCD.Code.2                                            0\n",
      "RFCD.Percentage.2                                      0\n",
      "RFCD.Code.3                                            0\n",
      "                                                      ..\n",
      "No..of.Years.in.Uni.at.Time.of.Grant.1_>5 to 10        0\n",
      "No..of.Years.in.Uni.at.Time.of.Grant.1_>=0 to 5        0\n",
      "No..of.Years.in.Uni.at.Time.of.Grant.1_Less than 0     0\n",
      "No..of.Years.in.Uni.at.Time.of.Grant.1_Unknown         0\n",
      "No..of.Years.in.Uni.at.Time.of.Grant.1_more than 15    0\n",
      "Length: 266, dtype: int64\n"
     ]
    }
   ],
   "source": [
    "print(f\"Размер обучающего набора: {X_train_scaled.shape}, Размер тестового набора: {X_test_scaled.shape}\")\n",
    "print(\"Отсутствующие значения после обработки:n\", features_encoded.isnull().sum())"
   ]
  },
  {
   "cell_type": "markdown",
   "metadata": {},
   "source": [
    "Пропуски в количественных признаках были заполнены средними значениями, что позволяет использовать весь набор данных для анализа.\n",
    "2. Для категориальных признаков с пропусками были использованы наилучшие подходы для их заполнения, чтобы сохранить информацию.\n",
    "3. Все категориальные признаки были закодированы с использованием прямого кодирования, что позволяет использовать их в машинном обучении.\n",
    "4. Данные были разделены на обучающую и тестовую выборки, что является важным шагом для оценки модели.\n",
    "5. Масштабирование данных помогло привести все количественные признаки к одному масштабу, что оптимизирует работу алгоритмов машинного обучения.\n"
   ]
  },
  {
   "cell_type": "markdown",
   "metadata": {},
   "source": [
    "3. Изучите распределение по целевой переменной, чтобы выяснить, сбалансированы ли классы. Если классы не сбалансированы, используйте в работе хотя бы один из изученных методов борьбы с дисбалансом классов\n",
    "3.1 выяснить распрределение по целевой переменной"
   ]
  },
  {
   "cell_type": "code",
   "execution_count": null,
   "metadata": {},
   "outputs": [
    {
     "name": "stdout",
     "output_type": "stream",
     "text": [
      "Grant.Status\n",
      "0.0    1183\n",
      "1.0     622\n",
      "Name: count, dtype: int64\n"
     ]
    }
   ],
   "source": [
    "class_counts = df['Grant.Status'].value_counts()\n",
    "print(class_counts)"
   ]
  },
  {
   "cell_type": "markdown",
   "metadata": {},
   "source": [
    "3.2 Визуализация"
   ]
  },
  {
   "cell_type": "code",
   "execution_count": null,
   "metadata": {},
   "outputs": [
    {
     "data": {
      "image/png": "[encoded data removed]",
      "text/plain": [
       "<Figure size 640x480 with 1 Axes>"
      ]
     },
     "metadata": {},
     "output_type": "display_data"
    }
   ],
   "source": [
    "sns.barplot(x=class_counts.index, y=class_counts.values)\n",
    "plt.title('Распределение по целевой переменной (Grant Status)')\n",
    "plt.xlabel('Классы')\n",
    "plt.ylabel('Количество')\n",
    "plt.show()"
   ]
  },
  {
   "cell_type": "markdown",
   "metadata": {},
   "source": [
    "Проверка на дисбаланс классов\n",
    "\n",
    "Для проверки дисбаланса классов, мы можем вычислить, насколько сильно классы отличаются по количеству:"
   ]
  },
  {
   "cell_type": "code",
   "execution_count": null,
   "metadata": {},
   "outputs": [
    {
     "data": {
      "image/png": "[encoded data removed]",
      "text/plain": [
       "<Figure size 1000x500 with 1 Axes>"
      ]
     },
     "metadata": {},
     "output_type": "display_data"
    },
    {
     "name": "stdout",
     "output_type": "stream",
     "text": [
      "Распределение классов:\n",
      "Grant.Status\n",
      "0.0    1183\n",
      "1.0     622\n",
      "Name: count, dtype: int64\n",
      "Сбалансированы ли классы?: True\n"
     ]
    }
   ],
   "source": [
    "plt.figure(figsize=(10, 5))\n",
    "sns.countplot(x='Grant.Status', data=df)\n",
    "plt.title('Распределение по целевой переменной Grant.Status')\n",
    "plt.xlabel('Grant.Status')\n",
    "plt.ylabel('Число записей')\n",
    "plt.show()\n",
    "\n",
    "# Проверка сбалансированности классов\n",
    "class_distribution = df['Grant.Status'].value_counts()\n",
    "print(\"Распределение классов:\")\n",
    "print(class_distribution)\n",
    "\n",
    "# Проверка на сбалансированность\n",
    "is_balanced = class_distribution.min() / class_distribution.sum() > 0.1  # Порог можно выбрать по желанию\n",
    "print(\"Сбалансированы ли классы?:\", is_balanced)\n",
    "\n",
    "# Если классы не сбалансированы, применим RandomOverSampler\n",
    "if not is_balanced:\n",
    "    X = df.drop(columns=['Grant.Status'])  # Признаки\n",
    "    y = df['Grant.Status']  # Целевая переменная\n",
    "    \n",
    "    # Разделение данных на обучающую и тестовую выборки\n",
    "    X_train, X_test, y_train, y_test = train_test_split(X, y, test_size=0.2, random_state=42)\n",
    "\n",
    "    # Применение RandomOverSampler\n",
    "    ros = RandomOverSampler()\n",
    "    X_resampled, y_resampled = ros.fit_resample(X_train, y_train)\n",
    "\n",
    "    # Проверка нового распределения\n",
    "    resampled_class_distribution = pd.Series(y_resampled).value_counts()\n",
    "    print(\"Новое распределение классов после oversampling:\")\n",
    "    print(resampled_class_distribution)\n",
    "    \n",
    "    # Построение графика нового распределения\n",
    "    plt.figure(figsize=(10, 5))\n",
    "    sns.countplot(x=y_resampled)\n",
    "    plt.title('Новое распределение по целевой переменной Grant.Status после Oversampling')\n",
    "    plt.xlabel('Grant.Status')\n",
    "    plt.ylabel('Число записей')\n",
    "    plt.show()"
   ]
  },
  {
   "cell_type": "code",
   "execution_count": null,
   "metadata": {},
   "outputs": [
    {
     "name": "stdout",
     "output_type": "stream",
     "text": [
      "Соотношение мин/макс классов: 0.525781910397295\n"
     ]
    }
   ],
   "source": [
    "ratio = class_counts.min() / class_counts.max()\n",
    "print(f\"Соотношение мин/макс классов: {ratio}\")"
   ]
  },
  {
   "cell_type": "markdown",
   "metadata": {},
   "source": [
    "Если классы явно дисбалансированы, можем использовать SMOTE для генерации новых примеров класса с меньшим количеством:\n"
   ]
  },
  {
   "cell_type": "markdown",
   "metadata": {},
   "source": [
    "балансировка классов с помощью  smote\n"
   ]
  },
  {
   "cell_type": "code",
   "execution_count": null,
   "metadata": {},
   "outputs": [
    {
     "name": "stderr",
     "output_type": "stream",
     "text": [
      "c:\\Users\\gavri\\AppData\\Local\\Programs\\Python\\Python312\\Lib\\site-packages\\sklearn\\utils\\_array_api.py:390: RuntimeWarning: invalid value encountered in cast\n",
      "  return x.astype(dtype, copy=copy, casting=casting)\n"
     ]
    },
    {
     "ename": "ValueError",
     "evalue": "Input y contains NaN.",
     "output_type": "error",
     "traceback": [
      "\u001b[1;31m---------------------------------------------------------------------------\u001b[0m",
      "\u001b[1;31mValueError\u001b[0m                                Traceback (most recent call last)",
      "Cell \u001b[1;32mIn[189], line 7\u001b[0m\n\u001b[0;32m      5\u001b[0m \u001b[38;5;66;03m# Применяем SMOTE\u001b[39;00m\n\u001b[0;32m      6\u001b[0m smote \u001b[38;5;241m=\u001b[39m SMOTE(random_state\u001b[38;5;241m=\u001b[39m\u001b[38;5;241m42\u001b[39m)\n\u001b[1;32m----> 7\u001b[0m X_res, y_res \u001b[38;5;241m=\u001b[39m \u001b[43msmote\u001b[49m\u001b[38;5;241;43m.\u001b[39;49m\u001b[43mfit_resample\u001b[49m\u001b[43m(\u001b[49m\u001b[43mX\u001b[49m\u001b[43m,\u001b[49m\u001b[43m \u001b[49m\u001b[43my\u001b[49m\u001b[43m)\u001b[49m\n\u001b[0;32m      9\u001b[0m \u001b[38;5;66;03m# Смотрим на результирующий набор данных\u001b[39;00m\n\u001b[0;32m     10\u001b[0m \u001b[38;5;28mprint\u001b[39m(\u001b[38;5;124mf\u001b[39m\u001b[38;5;124m'\u001b[39m\u001b[38;5;124mОригинальная размерность: \u001b[39m\u001b[38;5;132;01m{\u001b[39;00mX\u001b[38;5;241m.\u001b[39mshape[\u001b[38;5;241m0\u001b[39m]\u001b[38;5;132;01m}\u001b[39;00m\u001b[38;5;124m'\u001b[39m)\n",
      "File \u001b[1;32mc:\\Users\\gavri\\AppData\\Local\\Programs\\Python\\Python312\\Lib\\site-packages\\imblearn\\base.py:208\u001b[0m, in \u001b[0;36mBaseSampler.fit_resample\u001b[1;34m(self, X, y)\u001b[0m\n\u001b[0;32m    187\u001b[0m \u001b[38;5;250m\u001b[39m\u001b[38;5;124;03m\"\"\"Resample the dataset.\u001b[39;00m\n\u001b[0;32m    188\u001b[0m \n\u001b[0;32m    189\u001b[0m \u001b[38;5;124;03mParameters\u001b[39;00m\n\u001b[1;32m   (...)\u001b[0m\n\u001b[0;32m    205\u001b[0m \u001b[38;5;124;03m    The corresponding label of `X_resampled`.\u001b[39;00m\n\u001b[0;32m    206\u001b[0m \u001b[38;5;124;03m\"\"\"\u001b[39;00m\n\u001b[0;32m    207\u001b[0m \u001b[38;5;28mself\u001b[39m\u001b[38;5;241m.\u001b[39m_validate_params()\n\u001b[1;32m--> 208\u001b[0m \u001b[38;5;28;01mreturn\u001b[39;00m \u001b[38;5;28;43msuper\u001b[39;49m\u001b[43m(\u001b[49m\u001b[43m)\u001b[49m\u001b[38;5;241;43m.\u001b[39;49m\u001b[43mfit_resample\u001b[49m\u001b[43m(\u001b[49m\u001b[43mX\u001b[49m\u001b[43m,\u001b[49m\u001b[43m \u001b[49m\u001b[43my\u001b[49m\u001b[43m)\u001b[49m\n",
      "File \u001b[1;32mc:\\Users\\gavri\\AppData\\Local\\Programs\\Python\\Python312\\Lib\\site-packages\\imblearn\\base.py:104\u001b[0m, in \u001b[0;36mSamplerMixin.fit_resample\u001b[1;34m(self, X, y)\u001b[0m\n\u001b[0;32m     83\u001b[0m \u001b[38;5;28;01mdef\u001b[39;00m \u001b[38;5;21mfit_resample\u001b[39m(\u001b[38;5;28mself\u001b[39m, X, y):\n\u001b[0;32m     84\u001b[0m \u001b[38;5;250m    \u001b[39m\u001b[38;5;124;03m\"\"\"Resample the dataset.\u001b[39;00m\n\u001b[0;32m     85\u001b[0m \n\u001b[0;32m     86\u001b[0m \u001b[38;5;124;03m    Parameters\u001b[39;00m\n\u001b[1;32m   (...)\u001b[0m\n\u001b[0;32m    102\u001b[0m \u001b[38;5;124;03m        The corresponding label of `X_resampled`.\u001b[39;00m\n\u001b[0;32m    103\u001b[0m \u001b[38;5;124;03m    \"\"\"\u001b[39;00m\n\u001b[1;32m--> 104\u001b[0m     \u001b[43mcheck_classification_targets\u001b[49m\u001b[43m(\u001b[49m\u001b[43my\u001b[49m\u001b[43m)\u001b[49m\n\u001b[0;32m    105\u001b[0m     arrays_transformer \u001b[38;5;241m=\u001b[39m ArraysTransformer(X, y)\n\u001b[0;32m    106\u001b[0m     X, y, binarize_y \u001b[38;5;241m=\u001b[39m \u001b[38;5;28mself\u001b[39m\u001b[38;5;241m.\u001b[39m_check_X_y(X, y)\n",
      "File \u001b[1;32mc:\\Users\\gavri\\AppData\\Local\\Programs\\Python\\Python312\\Lib\\site-packages\\sklearn\\utils\\multiclass.py:211\u001b[0m, in \u001b[0;36mcheck_classification_targets\u001b[1;34m(y)\u001b[0m\n\u001b[0;32m    199\u001b[0m \u001b[38;5;28;01mdef\u001b[39;00m \u001b[38;5;21mcheck_classification_targets\u001b[39m(y):\n\u001b[0;32m    200\u001b[0m \u001b[38;5;250m    \u001b[39m\u001b[38;5;124;03m\"\"\"Ensure that target y is of a non-regression type.\u001b[39;00m\n\u001b[0;32m    201\u001b[0m \n\u001b[0;32m    202\u001b[0m \u001b[38;5;124;03m    Only the following target types (as defined in type_of_target) are allowed:\u001b[39;00m\n\u001b[1;32m   (...)\u001b[0m\n\u001b[0;32m    209\u001b[0m \u001b[38;5;124;03m        Target values.\u001b[39;00m\n\u001b[0;32m    210\u001b[0m \u001b[38;5;124;03m    \"\"\"\u001b[39;00m\n\u001b[1;32m--> 211\u001b[0m     y_type \u001b[38;5;241m=\u001b[39m \u001b[43mtype_of_target\u001b[49m\u001b[43m(\u001b[49m\u001b[43my\u001b[49m\u001b[43m,\u001b[49m\u001b[43m \u001b[49m\u001b[43minput_name\u001b[49m\u001b[38;5;241;43m=\u001b[39;49m\u001b[38;5;124;43m\"\u001b[39;49m\u001b[38;5;124;43my\u001b[39;49m\u001b[38;5;124;43m\"\u001b[39;49m\u001b[43m)\u001b[49m\n\u001b[0;32m    212\u001b[0m     \u001b[38;5;28;01mif\u001b[39;00m y_type \u001b[38;5;129;01mnot\u001b[39;00m \u001b[38;5;129;01min\u001b[39;00m [\n\u001b[0;32m    213\u001b[0m         \u001b[38;5;124m\"\u001b[39m\u001b[38;5;124mbinary\u001b[39m\u001b[38;5;124m\"\u001b[39m,\n\u001b[0;32m    214\u001b[0m         \u001b[38;5;124m\"\u001b[39m\u001b[38;5;124mmulticlass\u001b[39m\u001b[38;5;124m\"\u001b[39m,\n\u001b[1;32m   (...)\u001b[0m\n\u001b[0;32m    217\u001b[0m         \u001b[38;5;124m\"\u001b[39m\u001b[38;5;124mmultilabel-sequences\u001b[39m\u001b[38;5;124m\"\u001b[39m,\n\u001b[0;32m    218\u001b[0m     ]:\n\u001b[0;32m    219\u001b[0m         \u001b[38;5;28;01mraise\u001b[39;00m \u001b[38;5;167;01mValueError\u001b[39;00m(\n\u001b[0;32m    220\u001b[0m             \u001b[38;5;124mf\u001b[39m\u001b[38;5;124m\"\u001b[39m\u001b[38;5;124mUnknown label type: \u001b[39m\u001b[38;5;132;01m{\u001b[39;00my_type\u001b[38;5;132;01m}\u001b[39;00m\u001b[38;5;124m. Maybe you are trying to fit a \u001b[39m\u001b[38;5;124m\"\u001b[39m\n\u001b[0;32m    221\u001b[0m             \u001b[38;5;124m\"\u001b[39m\u001b[38;5;124mclassifier, which expects discrete classes on a \u001b[39m\u001b[38;5;124m\"\u001b[39m\n\u001b[0;32m    222\u001b[0m             \u001b[38;5;124m\"\u001b[39m\u001b[38;5;124mregression target with continuous values.\u001b[39m\u001b[38;5;124m\"\u001b[39m\n\u001b[0;32m    223\u001b[0m         )\n",
      "File \u001b[1;32mc:\\Users\\gavri\\AppData\\Local\\Programs\\Python\\Python312\\Lib\\site-packages\\sklearn\\utils\\multiclass.py:398\u001b[0m, in \u001b[0;36mtype_of_target\u001b[1;34m(y, input_name)\u001b[0m\n\u001b[0;32m    396\u001b[0m     data \u001b[38;5;241m=\u001b[39m y\u001b[38;5;241m.\u001b[39mdata \u001b[38;5;28;01mif\u001b[39;00m issparse(y) \u001b[38;5;28;01melse\u001b[39;00m y\n\u001b[0;32m    397\u001b[0m     \u001b[38;5;28;01mif\u001b[39;00m xp\u001b[38;5;241m.\u001b[39many(data \u001b[38;5;241m!=\u001b[39m xp\u001b[38;5;241m.\u001b[39mastype(data, \u001b[38;5;28mint\u001b[39m)):\n\u001b[1;32m--> 398\u001b[0m         \u001b[43m_assert_all_finite\u001b[49m\u001b[43m(\u001b[49m\u001b[43mdata\u001b[49m\u001b[43m,\u001b[49m\u001b[43m \u001b[49m\u001b[43minput_name\u001b[49m\u001b[38;5;241;43m=\u001b[39;49m\u001b[43minput_name\u001b[49m\u001b[43m)\u001b[49m\n\u001b[0;32m    399\u001b[0m         \u001b[38;5;28;01mreturn\u001b[39;00m \u001b[38;5;124m\"\u001b[39m\u001b[38;5;124mcontinuous\u001b[39m\u001b[38;5;124m\"\u001b[39m \u001b[38;5;241m+\u001b[39m suffix\n\u001b[0;32m    401\u001b[0m \u001b[38;5;66;03m# Check multiclass\u001b[39;00m\n",
      "File \u001b[1;32mc:\\Users\\gavri\\AppData\\Local\\Programs\\Python\\Python312\\Lib\\site-packages\\sklearn\\utils\\validation.py:123\u001b[0m, in \u001b[0;36m_assert_all_finite\u001b[1;34m(X, allow_nan, msg_dtype, estimator_name, input_name)\u001b[0m\n\u001b[0;32m    120\u001b[0m \u001b[38;5;28;01mif\u001b[39;00m first_pass_isfinite:\n\u001b[0;32m    121\u001b[0m     \u001b[38;5;28;01mreturn\u001b[39;00m\n\u001b[1;32m--> 123\u001b[0m \u001b[43m_assert_all_finite_element_wise\u001b[49m\u001b[43m(\u001b[49m\n\u001b[0;32m    124\u001b[0m \u001b[43m    \u001b[49m\u001b[43mX\u001b[49m\u001b[43m,\u001b[49m\n\u001b[0;32m    125\u001b[0m \u001b[43m    \u001b[49m\u001b[43mxp\u001b[49m\u001b[38;5;241;43m=\u001b[39;49m\u001b[43mxp\u001b[49m\u001b[43m,\u001b[49m\n\u001b[0;32m    126\u001b[0m \u001b[43m    \u001b[49m\u001b[43mallow_nan\u001b[49m\u001b[38;5;241;43m=\u001b[39;49m\u001b[43mallow_nan\u001b[49m\u001b[43m,\u001b[49m\n\u001b[0;32m    127\u001b[0m \u001b[43m    \u001b[49m\u001b[43mmsg_dtype\u001b[49m\u001b[38;5;241;43m=\u001b[39;49m\u001b[43mmsg_dtype\u001b[49m\u001b[43m,\u001b[49m\n\u001b[0;32m    128\u001b[0m \u001b[43m    \u001b[49m\u001b[43mestimator_name\u001b[49m\u001b[38;5;241;43m=\u001b[39;49m\u001b[43mestimator_name\u001b[49m\u001b[43m,\u001b[49m\n\u001b[0;32m    129\u001b[0m \u001b[43m    \u001b[49m\u001b[43minput_name\u001b[49m\u001b[38;5;241;43m=\u001b[39;49m\u001b[43minput_name\u001b[49m\u001b[43m,\u001b[49m\n\u001b[0;32m    130\u001b[0m \u001b[43m\u001b[49m\u001b[43m)\u001b[49m\n",
      "File \u001b[1;32mc:\\Users\\gavri\\AppData\\Local\\Programs\\Python\\Python312\\Lib\\site-packages\\sklearn\\utils\\validation.py:172\u001b[0m, in \u001b[0;36m_assert_all_finite_element_wise\u001b[1;34m(X, xp, allow_nan, msg_dtype, estimator_name, input_name)\u001b[0m\n\u001b[0;32m    155\u001b[0m \u001b[38;5;28;01mif\u001b[39;00m estimator_name \u001b[38;5;129;01mand\u001b[39;00m input_name \u001b[38;5;241m==\u001b[39m \u001b[38;5;124m\"\u001b[39m\u001b[38;5;124mX\u001b[39m\u001b[38;5;124m\"\u001b[39m \u001b[38;5;129;01mand\u001b[39;00m has_nan_error:\n\u001b[0;32m    156\u001b[0m     \u001b[38;5;66;03m# Improve the error message on how to handle missing values in\u001b[39;00m\n\u001b[0;32m    157\u001b[0m     \u001b[38;5;66;03m# scikit-learn.\u001b[39;00m\n\u001b[0;32m    158\u001b[0m     msg_err \u001b[38;5;241m+\u001b[39m\u001b[38;5;241m=\u001b[39m (\n\u001b[0;32m    159\u001b[0m         \u001b[38;5;124mf\u001b[39m\u001b[38;5;124m\"\u001b[39m\u001b[38;5;130;01m\\n\u001b[39;00m\u001b[38;5;132;01m{\u001b[39;00mestimator_name\u001b[38;5;132;01m}\u001b[39;00m\u001b[38;5;124m does not accept missing values\u001b[39m\u001b[38;5;124m\"\u001b[39m\n\u001b[0;32m    160\u001b[0m         \u001b[38;5;124m\"\u001b[39m\u001b[38;5;124m encoded as NaN natively. For supervised learning, you might want\u001b[39m\u001b[38;5;124m\"\u001b[39m\n\u001b[1;32m   (...)\u001b[0m\n\u001b[0;32m    170\u001b[0m         \u001b[38;5;124m\"\u001b[39m\u001b[38;5;124m#estimators-that-handle-nan-values\u001b[39m\u001b[38;5;124m\"\u001b[39m\n\u001b[0;32m    171\u001b[0m     )\n\u001b[1;32m--> 172\u001b[0m \u001b[38;5;28;01mraise\u001b[39;00m \u001b[38;5;167;01mValueError\u001b[39;00m(msg_err)\n",
      "\u001b[1;31mValueError\u001b[0m: Input y contains NaN."
     ]
    }
   ],
   "source": [
    "# Обработаем целевую переменную и признаки\n",
    "X = df.drop('Grant.Status', axis=1)\n",
    "y = df['Grant.Status']\n",
    "\n",
    "# Применяем SMOTE\n",
    "smote = SMOTE(random_state=42)\n",
    "X_res, y_res = smote.fit_resample(X, y)\n",
    "\n",
    "# Смотрим на результирующий набор данных\n",
    "print(f'Оригинальная размерность: {X.shape[0]}')\n",
    "print(f'Новая размерность после SMOTE: {X_res.shape[0]}')\n",
    "print(f'Классы после SMOTE: {y_res.value_counts()}')"
   ]
  },
  {
   "cell_type": "markdown",
   "metadata": {},
   "source": [
    "проверка нового распределения классов"
   ]
  },
  {
   "cell_type": "code",
   "execution_count": null,
   "metadata": {},
   "outputs": [],
   "source": [
    "new_class_counts = pd.Series(y_resampled).value_counts()\n",
    "print(new_class_counts)"
   ]
  },
  {
   "cell_type": "markdown",
   "metadata": {},
   "source": [
    "визуализация нового распределения"
   ]
  },
  {
   "cell_type": "code",
   "execution_count": null,
   "metadata": {},
   "outputs": [
    {
     "ename": "NameError",
     "evalue": "name 'new_class_counts' is not defined",
     "output_type": "error",
     "traceback": [
      "\u001b[1;31m---------------------------------------------------------------------------\u001b[0m",
      "\u001b[1;31mNameError\u001b[0m                                 Traceback (most recent call last)",
      "Cell \u001b[1;32mIn[144], line 1\u001b[0m\n\u001b[1;32m----> 1\u001b[0m sns\u001b[38;5;241m.\u001b[39mbarplot(x\u001b[38;5;241m=\u001b[39m\u001b[43mnew_class_counts\u001b[49m\u001b[38;5;241m.\u001b[39mindex, y\u001b[38;5;241m=\u001b[39mnew_class_counts\u001b[38;5;241m.\u001b[39mvalues)\n\u001b[0;32m      2\u001b[0m plt\u001b[38;5;241m.\u001b[39mtitle(\u001b[38;5;124m'\u001b[39m\u001b[38;5;124mРаспределение по целевой переменной после SMOTE\u001b[39m\u001b[38;5;124m'\u001b[39m)\n\u001b[0;32m      3\u001b[0m plt\u001b[38;5;241m.\u001b[39mxlabel(\u001b[38;5;124m'\u001b[39m\u001b[38;5;124mКлассы\u001b[39m\u001b[38;5;124m'\u001b[39m)\n",
      "\u001b[1;31mNameError\u001b[0m: name 'new_class_counts' is not defined"
     ]
    }
   ],
   "source": [
    "sns.barplot(x=new_class_counts.index, y=new_class_counts.values)\n",
    "plt.title('Распределение по целевой переменной после SMOTE')\n",
    "plt.xlabel('Классы')\n",
    "plt.ylabel('Количество')\n",
    "plt.show()"
   ]
  },
  {
   "cell_type": "code",
   "execution_count": null,
   "metadata": {},
   "outputs": [],
   "source": []
  }
 ],
 "metadata": {
  "kernelspec": {
   "display_name": "Python 3",
   "language": "python",
   "name": "python3"
  },
  "language_info": {
   "codemirror_mode": {
    "name": "ipython",
    "version": 3
   },
   "file_extension": ".py",
   "mimetype": "text/x-python",
   "name": "python",
   "nbconvert_exporter": "python",
   "pygments_lexer": "ipython3",
   "version": "3.12.3"
  },
  "orig_nbformat": 4
 },
 "nbformat": 4,
 "nbformat_minor": 2
}
