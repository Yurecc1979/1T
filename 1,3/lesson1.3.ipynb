{
 "cells": [
  {
   "cell_type": "code",
   "execution_count": 1,
   "metadata": {},
   "outputs": [
    {
     "name": "stdout",
     "output_type": "stream",
     "text": [
      "625 100\n"
     ]
    }
   ],
   "source": [
    "# 1.\n",
    "# Напишите программу, которая будет выводить на экран площадь квадрата и его периметр. Сторона квадрата будет равна 25.\n",
    "\n",
    "a=25\n",
    "s=a**2\n",
    "p=a*4\n",
    "print(s,p)"
   ]
  },
  {
   "cell_type": "code",
   "execution_count": 2,
   "metadata": {},
   "outputs": [
    {
     "name": "stdout",
     "output_type": "stream",
     "text": [
      "1385\n"
     ]
    }
   ],
   "source": [
    "# 2.\n",
    "# Напишите функцию, которая будет принимать два числа и считать сумму квадратов этих двух чисел, \n",
    "# запишите своё вычисление в переменную squared. (Подсказка: Помните, чтобы записать результат функции в переменную, \n",
    "# она должна этот результат внутри себя возвращать! Return :slight_smile: ). \n",
    "\n",
    "def summa_kvadratov(a,b):\n",
    "    sum=a**2+b**2\n",
    "    return sum\n",
    "\n",
    "squared=summa_kvadratov(19,32)\n",
    "print(squared)\n"
   ]
  },
  {
   "cell_type": "code",
   "execution_count": 2,
   "metadata": {},
   "outputs": [
    {
     "name": "stdout",
     "output_type": "stream",
     "text": [
      "['female', 'female', 'male', 'male', 'female', 'male', 'male']\n"
     ]
    }
   ],
   "source": [
    "# 3. \n",
    "# Напишите функцию, которая будет принимать на вход список  [“male“,“male“,“female“,“male“,“male“,“female“,”female“] и возвращать его в обратном порядке. \n",
    "# Запишите список в переменную new_list. Подсказка: Вам поможет обратная индексация к спискам ! [::-1]. \n",
    "\n",
    "def spisok(list1):\n",
    "    return list1[::-1]\n",
    "\n",
    "\n",
    "lst=[\"male\",\"male\",\"female\",\"male\",\"male\",\"female\",\"female\"]\n",
    "new_list=spisok(lst)\n",
    "print(new_list)"
   ]
  },
  {
   "cell_type": "code",
   "execution_count": 3,
   "metadata": {},
   "outputs": [
    {
     "name": "stdout",
     "output_type": "stream",
     "text": [
      "кол-во мужчин 4 кол-во женщин,J\n"
     ]
    }
   ],
   "source": [
    "# 4.\n",
    "# Напишите функцию, которая будет принимать на вход список (new_list) и идти по нему в цикле.\n",
    "#  На выходе функция должна вывести на экран: Кол-во мужчин 4, Кол-во женщин 3.\n",
    "\n",
    "def mujjen(lst):\n",
    "    m=0\n",
    "    j=0\n",
    "    for i in lst:\n",
    "        if i==\"male\":\n",
    "            m=m+1\n",
    "        else:\n",
    "            j=j+1\n",
    "    print(\"кол-во мужчин\",m,\"кол-во женщин,J\")\n",
    "\n",
    "mujjen(new_list)\n",
    "\n",
    "\n"
   ]
  },
  {
   "cell_type": "code",
   "execution_count": 4,
   "metadata": {},
   "outputs": [
    {
     "name": "stdout",
     "output_type": "stream",
     "text": [
      "{'f': 1, 'e': 2, 'm': 1, 'a': 1, 'l': 1}\n"
     ]
    }
   ],
   "source": [
    "# 5.\n",
    "# Напишите функцию, которая будет принимать строку (Например: “female”), а возвращать словарь где ключи — это символы строки, а значения кол-во символов в строке. \n",
    "\n",
    "def symbols(stroka):\n",
    "    slovar={}\n",
    "    for symbol in stroka:\n",
    "        slovar[symbol]=stroka.count(symbol)\n",
    "    return slovar\n",
    "\n",
    "print(symbols(\"female\"))\n"
   ]
  },
  {
   "cell_type": "code",
   "execution_count": 5,
   "metadata": {},
   "outputs": [
    {
     "name": "stdout",
     "output_type": "stream",
     "text": [
      "338350\n"
     ]
    }
   ],
   "source": [
    "# 6.\n",
    "# Воспользуйтесь функцией range в Python и выведите на экран сумму квадратов от 1 до 100 (включительно). \n",
    "def summa():\n",
    "    sum=0\n",
    "    for i in range(1,101):\n",
    "        sum=sum+i*i\n",
    "    print(sum)\n",
    "\n",
    "summa()\n"
   ]
  },
  {
   "cell_type": "code",
   "execution_count": 6,
   "metadata": {},
   "outputs": [
    {
     "name": "stdout",
     "output_type": "stream",
     "text": [
      "[1, 2, 3, 4, 5, 6, 7, 8, 9, 90]\n"
     ]
    }
   ],
   "source": [
    "# 7.\n",
    "# Укажите какой метод добавит значение в конец списка. Приведите пример.\n",
    "lst=[1,2,3,4,5,6,7,8,9]\n",
    "lst.append(90)\n",
    "print(lst)"
   ]
  },
  {
   "cell_type": "code",
   "execution_count": 7,
   "metadata": {},
   "outputs": [
    {
     "name": "stdout",
     "output_type": "stream",
     "text": [
      "[1, 2, 3, 4, 5, 6]\n"
     ]
    }
   ],
   "source": [
    "# 8.\n",
    "# Как объединить два списка \"a\" и \"b\" в один новый список \"c\"? Приведите пример.\n",
    "a=[1,2,3]\n",
    "b=[4,5,6]\n",
    "c=a+b\n",
    "print(c)"
   ]
  },
  {
   "cell_type": "code",
   "execution_count": 8,
   "metadata": {},
   "outputs": [
    {
     "name": "stdout",
     "output_type": "stream",
     "text": [
      "7\n"
     ]
    }
   ],
   "source": [
    "# 9.\n",
    "# Укажите какой метод посчитает количество значений в списке. Приведите пример.\n",
    "a=[1,2,3,4,5,6,7]\n",
    "print(len(a))\n"
   ]
  },
  {
   "cell_type": "code",
   "execution_count": 9,
   "metadata": {},
   "outputs": [
    {
     "name": "stdout",
     "output_type": "stream",
     "text": [
      "x больше, либо равен y\n"
     ]
    }
   ],
   "source": [
    "# 10.\n",
    "# Исправьте следующий код, так чтобы он отрабатывал правильно \n",
    "\n",
    "# x = 2**4\n",
    "# y = 4**2\n",
    "# if x < y:\n",
    "# print(\"x меньше y\") \n",
    "# else: \n",
    "# print(\"x больше, либо равен y\")\n",
    "\n",
    "x = 2**4\n",
    "y = 4**2\n",
    "if x < y:\n",
    "    print(\"x меньше y\") \n",
    "else: \n",
    "    print(\"x больше, либо равен y\")"
   ]
  }
 ],
 "metadata": {
  "kernelspec": {
   "display_name": "Python 3",
   "language": "python",
   "name": "python3"
  },
  "language_info": {
   "codemirror_mode": {
    "name": "ipython",
    "version": 3
   },
   "file_extension": ".py",
   "mimetype": "text/x-python",
   "name": "python",
   "nbconvert_exporter": "python",
   "pygments_lexer": "ipython3",
   "version": "3.12.3"
  }
 },
 "nbformat": 4,
 "nbformat_minor": 2
}
