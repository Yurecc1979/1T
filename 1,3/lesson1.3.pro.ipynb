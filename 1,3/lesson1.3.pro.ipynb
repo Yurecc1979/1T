{
 "cells": [
  {
   "cell_type": "code",
   "execution_count": 1,
   "metadata": {},
   "outputs": [
    {
     "name": "stdout",
     "output_type": "stream",
     "text": [
      "0\n",
      "1\n",
      "2\n",
      "4\n",
      "8\n",
      "16\n",
      "32\n",
      "64\n"
     ]
    }
   ],
   "source": [
    "# 1\n",
    "# Написать программу, которая будет выводить на экран числа Фибоначчи до заданного числа.\n",
    "def fibo(B):\n",
    "    a = 0\n",
    "    b = 1\n",
    "    print(a)\n",
    "    while b <= B:\n",
    "        print(b)\n",
    "        a = b\n",
    "        b = a + b\n",
    "\n",
    "fibo(99)"
   ]
  },
  {
   "cell_type": "code",
   "execution_count": 2,
   "metadata": {},
   "outputs": [
    {
     "name": "stdout",
     "output_type": "stream",
     "text": [
      "{1, 2, 3, 4, 5, 6}\n"
     ]
    }
   ],
   "source": [
    "# 2.\n",
    "# Напишите программу, которая на вход принимает список чисел и возвращает только уникальные значения из этого списка.\n",
    "def unique(lst):\n",
    "    return set(lst)\n",
    "\n",
    "numbers = [1, 2, 3, 3, 4, 5, 5, 6]\n",
    "uniquenumbers = unique(numbers)\n",
    "print(uniquenumbers)  "
   ]
  },
  {
   "cell_type": "code",
   "execution_count": 3,
   "metadata": {},
   "outputs": [
    {
     "name": "stdout",
     "output_type": "stream",
     "text": [
      "-3.888888888888889\n"
     ]
    }
   ],
   "source": [
    "# 3.\n",
    "# Напишите программу, которая переводит температуру в градусах Фаренгейта в градусы Цельсия.\n",
    "def fartocel(far):\n",
    "    cel=(far-32)*5/9\n",
    "    return cel\n",
    "\n",
    "print(fartocel(25))"
   ]
  },
  {
   "cell_type": "code",
   "execution_count": 5,
   "metadata": {},
   "outputs": [
    {
     "name": "stdout",
     "output_type": "stream",
     "text": [
      "not palindrom\n"
     ]
    }
   ],
   "source": [
    "# 4.\n",
    "# Напишите программу, которая проверяет, является ли строка палиндромом без использования стандартных методов.\n",
    "def palindrom(pal):\n",
    "    stroka=pal[::-1]\n",
    "    if pal==stroka:\n",
    "        print(\"palindrom\")\n",
    "    else:\n",
    "        print(\"not palindrom\")\n",
    "\n",
    "palindrom(\"111011\")    "
   ]
  }
 ],
 "metadata": {
  "kernelspec": {
   "display_name": "Python 3",
   "language": "python",
   "name": "python3"
  },
  "language_info": {
   "codemirror_mode": {
    "name": "ipython",
    "version": 3
   },
   "file_extension": ".py",
   "mimetype": "text/x-python",
   "name": "python",
   "nbconvert_exporter": "python",
   "pygments_lexer": "ipython3",
   "version": "3.12.3"
  }
 },
 "nbformat": 4,
 "nbformat_minor": 2
}
